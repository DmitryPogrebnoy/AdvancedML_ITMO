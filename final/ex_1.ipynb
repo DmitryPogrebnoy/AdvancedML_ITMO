{
 "cells": [
  {
   "cell_type": "code",
   "execution_count": 516,
   "outputs": [
    {
     "name": "stdout",
     "output_type": "stream",
     "text": [
      "Found existing installation: scikit-learn 1.0.2\n",
      "Uninstalling scikit-learn-1.0.2:\n",
      "  Successfully uninstalled scikit-learn-1.0.2\n"
     ]
    }
   ],
   "source": [
    "!pip uninstall scikit-learn -y"
   ],
   "metadata": {
    "collapsed": false,
    "pycharm": {
     "name": "#%%\n"
    }
   }
  },
  {
   "cell_type": "code",
   "execution_count": 518,
   "outputs": [
    {
     "name": "stderr",
     "output_type": "stream",
     "text": [
      "WARNING: Skipping scipy as it is not installed.\n"
     ]
    }
   ],
   "source": [
    "!pip uninstall scipy -y"
   ],
   "metadata": {
    "collapsed": false,
    "pycharm": {
     "name": "#%%\n"
    }
   }
  },
  {
   "cell_type": "code",
   "execution_count": 521,
   "outputs": [
    {
     "name": "stdout",
     "output_type": "stream",
     "text": [
      "Collecting scipy==1.5.4\n",
      "  Downloading scipy-1.5.4-cp39-cp39-win_amd64.whl (31.4 MB)\n",
      "     ---------------------------------------- 31.4/31.4 MB 3.0 MB/s eta 0:00:00\n",
      "Requirement already satisfied: numpy>=1.14.5 in c:\\users\\pogre\\pycharmprojects\\pythonproject1\\final\\venv\\lib\\site-packages (from scipy==1.5.4) (1.22.2)\n",
      "Installing collected packages: scipy\n",
      "Successfully installed scipy-1.5.4\n"
     ]
    }
   ],
   "source": [
    "!pip install --upgrade scipy==1.5.4"
   ],
   "metadata": {
    "collapsed": false,
    "pycharm": {
     "name": "#%%\n"
    }
   }
  },
  {
   "cell_type": "code",
   "execution_count": 522,
   "metadata": {
    "collapsed": true,
    "pycharm": {
     "name": "#%%\n"
    }
   },
   "outputs": [
    {
     "name": "stdout",
     "output_type": "stream",
     "text": [
      "Requirement already satisfied: pip in c:\\users\\pogre\\pycharmprojects\\pythonproject1\\final\\venv\\lib\\site-packages (22.0.3)\n",
      "Collecting scikit-learn==0.23.0\n",
      "  Using cached scikit_learn-0.23.0-cp39-cp39-win_amd64.whl\n",
      "Requirement already satisfied: joblib>=0.11 in c:\\users\\pogre\\pycharmprojects\\pythonproject1\\final\\venv\\lib\\site-packages (from scikit-learn==0.23.0) (1.1.0)\n",
      "Requirement already satisfied: threadpoolctl>=2.0.0 in c:\\users\\pogre\\pycharmprojects\\pythonproject1\\final\\venv\\lib\\site-packages (from scikit-learn==0.23.0) (3.1.0)\n",
      "Requirement already satisfied: numpy>=1.13.3 in c:\\users\\pogre\\pycharmprojects\\pythonproject1\\final\\venv\\lib\\site-packages (from scikit-learn==0.23.0) (1.22.2)\n",
      "Requirement already satisfied: scipy>=0.19.1 in c:\\users\\pogre\\pycharmprojects\\pythonproject1\\final\\venv\\lib\\site-packages (from scikit-learn==0.23.0) (1.5.4)\n",
      "Installing collected packages: scikit-learn\n",
      "Successfully installed scikit-learn-0.23.0\n"
     ]
    }
   ],
   "source": [
    "!pip install --upgrade pip\n",
    "!pip install --upgrade scikit-learn==0.23.0"
   ]
  },
  {
   "cell_type": "code",
   "execution_count": 1,
   "outputs": [],
   "source": [
    "import numpy as np\n",
    "import matplotlib\n",
    "import matplotlib.pyplot as plt\n",
    "%matplotlib inline"
   ],
   "metadata": {
    "collapsed": false,
    "pycharm": {
     "name": "#%%\n"
    }
   }
  },
  {
   "cell_type": "code",
   "execution_count": 2,
   "outputs": [],
   "source": [
    "import tensorflow\n",
    "from keras.datasets import mnist\n",
    "(X_train, y_train), (_, _) = mnist.load_data()"
   ],
   "metadata": {
    "collapsed": false,
    "pycharm": {
     "name": "#%%\n"
    }
   }
  },
  {
   "cell_type": "code",
   "execution_count": 3,
   "outputs": [
    {
     "data": {
      "text/plain": "60000"
     },
     "execution_count": 3,
     "metadata": {},
     "output_type": "execute_result"
    }
   ],
   "source": [
    "len(X_train)"
   ],
   "metadata": {
    "collapsed": false,
    "pycharm": {
     "name": "#%%\n"
    }
   }
  },
  {
   "cell_type": "code",
   "execution_count": 4,
   "outputs": [
    {
     "data": {
      "text/plain": "(60000, 28, 28)"
     },
     "execution_count": 4,
     "metadata": {},
     "output_type": "execute_result"
    }
   ],
   "source": [
    "X_train.shape"
   ],
   "metadata": {
    "collapsed": false,
    "pycharm": {
     "name": "#%%\n"
    }
   }
  },
  {
   "cell_type": "code",
   "execution_count": 5,
   "outputs": [],
   "source": [
    "dim = 784 # 28*28\n",
    "X_train = X_train.reshape(len(X_train), dim)"
   ],
   "metadata": {
    "collapsed": false,
    "pycharm": {
     "name": "#%%\n"
    }
   }
  },
  {
   "cell_type": "code",
   "execution_count": 6,
   "outputs": [],
   "source": [
    "from sklearn.decomposition import PCA\n",
    "\n",
    "pca = PCA(n_components=dim, svd_solver='full')\n",
    "modelPCA = pca.fit(X_train)\n",
    "\n",
    "X_dim_transformed = modelPCA.transform(X_train)"
   ],
   "metadata": {
    "collapsed": false,
    "pycharm": {
     "name": "#%%\n"
    }
   }
  },
  {
   "cell_type": "code",
   "execution_count": 7,
   "outputs": [
    {
     "data": {
      "text/plain": "array([0.097, 0.168, 0.23 , 0.284, 0.332, 0.375, 0.408, 0.437, 0.465,\n       0.488, 0.509, 0.529, 0.547, 0.564, 0.579, 0.594, 0.607, 0.62 ,\n       0.632, 0.644, 0.654, 0.664, 0.674, 0.683, 0.692, 0.7  , 0.708,\n       0.716, 0.724, 0.731, 0.737, 0.744, 0.75 , 0.755, 0.761, 0.767,\n       0.772, 0.777, 0.781, 0.786, 0.791, 0.795, 0.799, 0.803, 0.807,\n       0.811, 0.815, 0.818, 0.821, 0.825, 0.828, 0.831, 0.834, 0.837,\n       0.84 , 0.842, 0.845, 0.848, 0.85 , 0.853, 0.855, 0.857, 0.86 ,\n       0.862, 0.864, 0.866, 0.868, 0.87 , 0.872, 0.874, 0.876, 0.878,\n       0.879, 0.881, 0.883, 0.884, 0.886, 0.888, 0.889, 0.891, 0.892,\n       0.893, 0.895, 0.896, 0.897, 0.899, 0.9  , 0.901, 0.903, 0.904,\n       0.905, 0.906, 0.907, 0.908, 0.909, 0.911, 0.912, 0.913, 0.914,\n       0.915, 0.916, 0.917, 0.918, 0.918, 0.919, 0.92 , 0.921, 0.922,\n       0.923, 0.924, 0.924, 0.925, 0.926, 0.927, 0.928, 0.928, 0.929,\n       0.93 , 0.93 , 0.931, 0.932, 0.933, 0.933, 0.934, 0.935, 0.935,\n       0.936, 0.936, 0.937, 0.938, 0.938, 0.939, 0.939, 0.94 , 0.941,\n       0.941, 0.942, 0.942, 0.943, 0.943, 0.944, 0.944, 0.945, 0.945,\n       0.946, 0.946, 0.947, 0.947, 0.948, 0.948, 0.949, 0.949, 0.95 ,\n       0.95 , 0.951, 0.951, 0.952, 0.952, 0.952, 0.953, 0.953, 0.954,\n       0.954, 0.954, 0.955, 0.955, 0.956, 0.956, 0.956, 0.957, 0.957,\n       0.957, 0.958, 0.958, 0.959, 0.959, 0.959, 0.96 , 0.96 , 0.96 ,\n       0.961, 0.961, 0.961, 0.962, 0.962, 0.962, 0.963, 0.963, 0.963,\n       0.963, 0.964, 0.964, 0.964, 0.965, 0.965, 0.965, 0.966, 0.966,\n       0.966, 0.966, 0.967, 0.967, 0.967, 0.968, 0.968, 0.968, 0.968,\n       0.969, 0.969, 0.969, 0.969, 0.97 , 0.97 , 0.97 , 0.97 , 0.971,\n       0.971, 0.971, 0.971, 0.972, 0.972, 0.972, 0.972, 0.973, 0.973,\n       0.973, 0.973, 0.974, 0.974, 0.974, 0.974, 0.974, 0.975, 0.975,\n       0.975, 0.975, 0.975, 0.976, 0.976, 0.976, 0.976, 0.977, 0.977,\n       0.977, 0.977, 0.977, 0.978, 0.978, 0.978, 0.978, 0.978, 0.978,\n       0.979, 0.979, 0.979, 0.979, 0.979, 0.98 , 0.98 , 0.98 , 0.98 ,\n       0.98 , 0.98 , 0.981, 0.981, 0.981, 0.981, 0.981, 0.982, 0.982,\n       0.982, 0.982, 0.982, 0.982, 0.983, 0.983, 0.983, 0.983, 0.983,\n       0.983, 0.983, 0.984, 0.984, 0.984, 0.984, 0.984, 0.984, 0.985,\n       0.985, 0.985, 0.985, 0.985, 0.985, 0.985, 0.986, 0.986, 0.986,\n       0.986, 0.986, 0.986, 0.986, 0.986, 0.987, 0.987, 0.987, 0.987,\n       0.987, 0.987, 0.987, 0.988, 0.988, 0.988, 0.988, 0.988, 0.988,\n       0.988, 0.988, 0.989, 0.989, 0.989, 0.989, 0.989, 0.989, 0.989,\n       0.989, 0.989, 0.99 , 0.99 , 0.99 , 0.99 , 0.99 , 0.99 , 0.99 ,\n       0.99 , 0.99 , 0.991, 0.991, 0.991, 0.991, 0.991, 0.991, 0.991,\n       0.991, 0.991, 0.991, 0.992, 0.992, 0.992, 0.992, 0.992, 0.992,\n       0.992, 0.992, 0.992, 0.992, 0.993, 0.993, 0.993, 0.993, 0.993,\n       0.993, 0.993, 0.993, 0.993, 0.993, 0.993, 0.993, 0.994, 0.994,\n       0.994, 0.994, 0.994, 0.994, 0.994, 0.994, 0.994, 0.994, 0.994,\n       0.994, 0.994, 0.995, 0.995, 0.995, 0.995, 0.995, 0.995, 0.995,\n       0.995, 0.995, 0.995, 0.995, 0.995, 0.995, 0.995, 0.996, 0.996,\n       0.996, 0.996, 0.996, 0.996, 0.996, 0.996, 0.996, 0.996, 0.996,\n       0.996, 0.996, 0.996, 0.996, 0.996, 0.996, 0.996, 0.997, 0.997,\n       0.997, 0.997, 0.997, 0.997, 0.997, 0.997, 0.997, 0.997, 0.997,\n       0.997, 0.997, 0.997, 0.997, 0.997, 0.997, 0.997, 0.997, 0.997,\n       0.997, 0.998, 0.998, 0.998, 0.998, 0.998, 0.998, 0.998, 0.998,\n       0.998, 0.998, 0.998, 0.998, 0.998, 0.998, 0.998, 0.998, 0.998,\n       0.998, 0.998, 0.998, 0.998, 0.998, 0.998, 0.998, 0.998, 0.998,\n       0.998, 0.998, 0.998, 0.998, 0.999, 0.999, 0.999, 0.999, 0.999,\n       0.999, 0.999, 0.999, 0.999, 0.999, 0.999, 0.999, 0.999, 0.999,\n       0.999, 0.999, 0.999, 0.999, 0.999, 0.999, 0.999, 0.999, 0.999,\n       0.999, 0.999, 0.999, 0.999, 0.999, 0.999, 0.999, 0.999, 0.999,\n       0.999, 0.999, 0.999, 0.999, 0.999, 0.999, 0.999, 0.999, 0.999,\n       0.999, 0.999, 0.999, 0.999, 0.999, 0.999, 0.999, 0.999, 0.999,\n       0.999, 0.999, 0.999, 0.999, 0.999, 1.   , 1.   , 1.   , 1.   ,\n       1.   , 1.   , 1.   , 1.   , 1.   , 1.   , 1.   , 1.   , 1.   ,\n       1.   , 1.   , 1.   , 1.   , 1.   , 1.   , 1.   , 1.   , 1.   ,\n       1.   , 1.   , 1.   , 1.   , 1.   , 1.   , 1.   , 1.   , 1.   ,\n       1.   , 1.   , 1.   , 1.   , 1.   , 1.   , 1.   , 1.   , 1.   ,\n       1.   , 1.   , 1.   , 1.   , 1.   , 1.   , 1.   , 1.   , 1.   ,\n       1.   , 1.   , 1.   , 1.   , 1.   , 1.   , 1.   , 1.   , 1.   ,\n       1.   , 1.   , 1.   , 1.   , 1.   , 1.   , 1.   , 1.   , 1.   ,\n       1.   , 1.   , 1.   , 1.   , 1.   , 1.   , 1.   , 1.   , 1.   ,\n       1.   , 1.   , 1.   , 1.   , 1.   , 1.   , 1.   , 1.   , 1.   ,\n       1.   , 1.   , 1.   , 1.   , 1.   , 1.   , 1.   , 1.   , 1.   ,\n       1.   , 1.   , 1.   , 1.   , 1.   , 1.   , 1.   , 1.   , 1.   ,\n       1.   , 1.   , 1.   , 1.   , 1.   , 1.   , 1.   , 1.   , 1.   ,\n       1.   , 1.   , 1.   , 1.   , 1.   , 1.   , 1.   , 1.   , 1.   ,\n       1.   , 1.   , 1.   , 1.   , 1.   , 1.   , 1.   , 1.   , 1.   ,\n       1.   , 1.   , 1.   , 1.   , 1.   , 1.   , 1.   , 1.   , 1.   ,\n       1.   , 1.   , 1.   , 1.   , 1.   , 1.   , 1.   , 1.   , 1.   ,\n       1.   , 1.   , 1.   , 1.   , 1.   , 1.   , 1.   , 1.   , 1.   ,\n       1.   , 1.   , 1.   , 1.   , 1.   , 1.   , 1.   , 1.   , 1.   ,\n       1.   , 1.   , 1.   , 1.   , 1.   , 1.   , 1.   , 1.   , 1.   ,\n       1.   , 1.   , 1.   , 1.   , 1.   , 1.   , 1.   , 1.   , 1.   ,\n       1.   , 1.   , 1.   , 1.   , 1.   , 1.   , 1.   , 1.   , 1.   ,\n       1.   , 1.   , 1.   , 1.   , 1.   , 1.   , 1.   , 1.   , 1.   ,\n       1.   , 1.   , 1.   , 1.   , 1.   , 1.   , 1.   , 1.   , 1.   ,\n       1.   , 1.   , 1.   , 1.   , 1.   , 1.   , 1.   , 1.   , 1.   ,\n       1.   , 1.   , 1.   , 1.   , 1.   , 1.   , 1.   , 1.   , 1.   ,\n       1.   , 1.   , 1.   , 1.   , 1.   , 1.   , 1.   , 1.   , 1.   ,\n       1.   , 1.   , 1.   , 1.   , 1.   , 1.   , 1.   , 1.   , 1.   ,\n       1.   , 1.   , 1.   , 1.   , 1.   , 1.   , 1.   , 1.   , 1.   ,\n       1.   , 1.   , 1.   , 1.   , 1.   , 1.   , 1.   , 1.   , 1.   ,\n       1.   ])"
     },
     "execution_count": 7,
     "metadata": {},
     "output_type": "execute_result"
    }
   ],
   "source": [
    "explained_variance = np.round(np.cumsum(pca.explained_variance_ratio_), 3)\n",
    "explained_variance"
   ],
   "metadata": {
    "collapsed": false,
    "pycharm": {
     "name": "#%%\n"
    }
   }
  },
  {
   "cell_type": "code",
   "execution_count": 8,
   "outputs": [
    {
     "data": {
      "text/plain": "48"
     },
     "execution_count": 8,
     "metadata": {},
     "output_type": "execute_result"
    }
   ],
   "source": [
    "len(list(filter(lambda x: x < 0.82,explained_variance)))"
   ],
   "metadata": {
    "collapsed": false,
    "pycharm": {
     "name": "#%%\n"
    }
   }
  },
  {
   "cell_type": "markdown",
   "source": [
    "Answer for the first question is 49 components."
   ],
   "metadata": {
    "collapsed": false
   }
  },
  {
   "cell_type": "code",
   "execution_count": 9,
   "outputs": [],
   "source": [
    "M = 49"
   ],
   "metadata": {
    "collapsed": false,
    "pycharm": {
     "name": "#%%\n"
    }
   }
  },
  {
   "cell_type": "code",
   "execution_count": 10,
   "outputs": [],
   "source": [
    "pca = PCA(n_components=49, svd_solver='full')\n",
    "modelPCA = pca.fit(X_train)\n",
    "\n",
    "X_train = modelPCA.transform(X_train)"
   ],
   "metadata": {
    "collapsed": false,
    "pycharm": {
     "name": "#%%\n"
    }
   }
  },
  {
   "cell_type": "code",
   "execution_count": 11,
   "outputs": [],
   "source": [
    "from sklearn.model_selection import train_test_split\n",
    "\n",
    "X_train, X_test, y_train, y_test = train_test_split(X_train, y_train, test_size=0.3, random_state=68)"
   ],
   "metadata": {
    "collapsed": false,
    "pycharm": {
     "name": "#%%\n"
    }
   }
  },
  {
   "cell_type": "code",
   "execution_count": 12,
   "outputs": [
    {
     "data": {
      "text/plain": "42000"
     },
     "execution_count": 12,
     "metadata": {},
     "output_type": "execute_result"
    }
   ],
   "source": [
    "len(X_train)"
   ],
   "metadata": {
    "collapsed": false,
    "pycharm": {
     "name": "#%%\n"
    }
   }
  },
  {
   "cell_type": "code",
   "execution_count": 13,
   "outputs": [
    {
     "data": {
      "text/plain": "1.7137093856298877"
     },
     "execution_count": 13,
     "metadata": {},
     "output_type": "execute_result"
    }
   ],
   "source": [
    "np.sum(X_train[:,0])/len(X_train)"
   ],
   "metadata": {
    "collapsed": false,
    "pycharm": {
     "name": "#%%\n"
    }
   }
  },
  {
   "cell_type": "code",
   "execution_count": 14,
   "outputs": [],
   "source": [
    "from sklearn.multiclass import OneVsRestClassifier\n",
    "from sklearn.tree import DecisionTreeClassifier\n",
    "from sklearn.ensemble import RandomForestClassifier"
   ],
   "metadata": {
    "collapsed": false,
    "pycharm": {
     "name": "#%%\n"
    }
   }
  },
  {
   "cell_type": "code",
   "execution_count": 15,
   "outputs": [
    {
     "data": {
      "text/plain": "(42000, 49)"
     },
     "execution_count": 15,
     "metadata": {},
     "output_type": "execute_result"
    }
   ],
   "source": [
    "X_train.shape"
   ],
   "metadata": {
    "collapsed": false,
    "pycharm": {
     "name": "#%%\n"
    }
   }
  },
  {
   "cell_type": "code",
   "execution_count": 16,
   "outputs": [
    {
     "data": {
      "text/plain": "(42000,)"
     },
     "execution_count": 16,
     "metadata": {},
     "output_type": "execute_result"
    }
   ],
   "source": [
    "y_train.shape"
   ],
   "metadata": {
    "collapsed": false,
    "pycharm": {
     "name": "#%%\n"
    }
   }
  },
  {
   "cell_type": "code",
   "execution_count": 17,
   "outputs": [],
   "source": [
    "tree = RandomForestClassifier(criterion='gini', min_samples_leaf=10, max_depth=20, n_estimators=10, random_state=68)\n",
    "clf_tree = OneVsRestClassifier(tree).fit(X_train, y_train)"
   ],
   "metadata": {
    "collapsed": false,
    "pycharm": {
     "name": "#%%\n"
    }
   }
  },
  {
   "cell_type": "code",
   "execution_count": 18,
   "outputs": [
    {
     "data": {
      "text/plain": "(42000, 49)"
     },
     "execution_count": 18,
     "metadata": {},
     "output_type": "execute_result"
    }
   ],
   "source": [
    "X_train.shape"
   ],
   "metadata": {
    "collapsed": false,
    "pycharm": {
     "name": "#%%\n"
    }
   }
  },
  {
   "cell_type": "code",
   "execution_count": 19,
   "outputs": [
    {
     "data": {
      "text/plain": "(18000, 49)"
     },
     "execution_count": 19,
     "metadata": {},
     "output_type": "execute_result"
    }
   ],
   "source": [
    "X_test.shape"
   ],
   "metadata": {
    "collapsed": false,
    "pycharm": {
     "name": "#%%\n"
    }
   }
  },
  {
   "cell_type": "code",
   "execution_count": 20,
   "outputs": [
    {
     "data": {
      "text/plain": "(42000,)"
     },
     "execution_count": 20,
     "metadata": {},
     "output_type": "execute_result"
    }
   ],
   "source": [
    "y_train.shape"
   ],
   "metadata": {
    "collapsed": false,
    "pycharm": {
     "name": "#%%\n"
    }
   }
  },
  {
   "cell_type": "code",
   "execution_count": 21,
   "outputs": [],
   "source": [
    "y_pred = clf_tree.predict(X_test)"
   ],
   "metadata": {
    "collapsed": false,
    "pycharm": {
     "name": "#%%\n"
    }
   }
  },
  {
   "cell_type": "code",
   "execution_count": 22,
   "outputs": [],
   "source": [
    "from sklearn.metrics import confusion_matrix\n",
    "CM = confusion_matrix(y_test, y_pred)"
   ],
   "metadata": {
    "collapsed": false,
    "pycharm": {
     "name": "#%%\n"
    }
   }
  },
  {
   "cell_type": "code",
   "execution_count": 23,
   "outputs": [
    {
     "data": {
      "text/plain": "array([[1683,    0,    8,    7,    4,   15,   30,    2,    3,    2],\n       [   2, 2016,   14,    3,    0,    6,    4,    8,    5,    2],\n       [  20,    2, 1623,   13,   11,    6,   14,   29,   54,    6],\n       [   8,    8,   45, 1591,    4,   42,   10,    8,   39,   22],\n       [   6,   12,    7,    1, 1597,   10,   27,    5,   12,   61],\n       [  20,    2,   10,   60,   15, 1405,   28,   11,   25,   17],\n       [  17,    4,    8,    3,    4,   28, 1696,    0,    8,    2],\n       [   6,   19,   25,    2,   22,    3,    1, 1746,    6,   48],\n       [  16,   19,   29,   50,   12,   57,   12,   17, 1571,   28],\n       [  11,   11,    6,   23,   83,   14,    1,   54,   16, 1622]],\n      dtype=int64)"
     },
     "execution_count": 23,
     "metadata": {},
     "output_type": "execute_result"
    }
   ],
   "source": [
    "CM"
   ],
   "metadata": {
    "collapsed": false,
    "pycharm": {
     "name": "#%%\n"
    }
   }
  },
  {
   "cell_type": "code",
   "execution_count": 24,
   "outputs": [],
   "source": [
    "from sklearn.linear_model import LogisticRegression"
   ],
   "metadata": {
    "collapsed": false,
    "pycharm": {
     "name": "#%%\n"
    }
   }
  },
  {
   "cell_type": "code",
   "execution_count": 25,
   "outputs": [],
   "source": [
    "logreg = LogisticRegression(solver='lbfgs', random_state=68)"
   ],
   "metadata": {
    "collapsed": false,
    "pycharm": {
     "name": "#%%\n"
    }
   }
  },
  {
   "cell_type": "code",
   "execution_count": 26,
   "outputs": [
    {
     "data": {
      "text/plain": "dtype('uint8')"
     },
     "execution_count": 26,
     "metadata": {},
     "output_type": "execute_result"
    }
   ],
   "source": [
    "y_train.dtype"
   ],
   "metadata": {
    "collapsed": false,
    "pycharm": {
     "name": "#%%\n"
    }
   }
  },
  {
   "cell_type": "code",
   "execution_count": 27,
   "outputs": [
    {
     "data": {
      "text/plain": "dtype('float64')"
     },
     "execution_count": 27,
     "metadata": {},
     "output_type": "execute_result"
    }
   ],
   "source": [
    "X_train.dtype"
   ],
   "metadata": {
    "collapsed": false,
    "pycharm": {
     "name": "#%%\n"
    }
   }
  },
  {
   "cell_type": "code",
   "execution_count": 28,
   "outputs": [
    {
     "name": "stderr",
     "output_type": "stream",
     "text": [
      "c:\\users\\pogre\\pycharmprojects\\pythonproject1\\final\\venv\\lib\\site-packages\\sklearn\\linear_model\\_logistic.py:760: ConvergenceWarning: lbfgs failed to converge (status=1):\n",
      "STOP: TOTAL NO. of ITERATIONS REACHED LIMIT.\n",
      "\n",
      "Increase the number of iterations (max_iter) or scale the data as shown in:\n",
      "    https://scikit-learn.org/stable/modules/preprocessing.html\n",
      "Please also refer to the documentation for alternative solver options:\n",
      "    https://scikit-learn.org/stable/modules/linear_model.html#logistic-regression\n",
      "  n_iter_i = _check_optimize_result(\n"
     ]
    }
   ],
   "source": [
    "clf_logreg = OneVsRestClassifier(logreg).fit(X_train, y_train)"
   ],
   "metadata": {
    "collapsed": false,
    "pycharm": {
     "name": "#%%\n"
    }
   }
  },
  {
   "cell_type": "code",
   "execution_count": 29,
   "outputs": [],
   "source": [
    "y_pred = clf_logreg.predict(X_test)"
   ],
   "metadata": {
    "collapsed": false,
    "pycharm": {
     "name": "#%%\n"
    }
   }
  },
  {
   "cell_type": "code",
   "execution_count": 30,
   "outputs": [
    {
     "data": {
      "text/plain": "array([[1689,    0,    8,    3,    0,   16,   18,    3,   14,    3],\n       [   1, 2005,   10,    5,    0,   10,    3,    4,   19,    3],\n       [  12,   15, 1543,   30,   36,   12,   26,   35,   55,   14],\n       [   5,   10,   58, 1536,    3,   69,    9,   13,   45,   29],\n       [   7,   12,   13,    3, 1573,    1,   23,    6,   13,   87],\n       [  23,    8,   21,   77,   30, 1307,   40,    9,   48,   30],\n       [   6,    5,   11,    3,   18,   22, 1693,    3,    7,    2],\n       [   4,   14,   26,   11,   19,    8,    2, 1748,    6,   40],\n       [  17,   62,   32,   53,   10,   70,   18,   10, 1495,   44],\n       [   9,   16,   11,   35,   64,   21,    0,   74,   23, 1588]],\n      dtype=int64)"
     },
     "execution_count": 30,
     "metadata": {},
     "output_type": "execute_result"
    }
   ],
   "source": [
    "CM = confusion_matrix(y_test, y_pred)\n",
    "CM"
   ],
   "metadata": {
    "collapsed": false,
    "pycharm": {
     "name": "#%%\n"
    }
   }
  },
  {
   "cell_type": "code",
   "execution_count": 31,
   "outputs": [],
   "source": [
    "des_tree = DecisionTreeClassifier(criterion='gini', min_samples_leaf=10, max_depth=20, random_state=68)\n",
    "clf_des_tree = OneVsRestClassifier(des_tree).fit(X_train, y_train)"
   ],
   "metadata": {
    "collapsed": false,
    "pycharm": {
     "name": "#%%\n"
    }
   }
  },
  {
   "cell_type": "code",
   "execution_count": 32,
   "outputs": [],
   "source": [
    "y_pred = clf_des_tree.predict(X_test)"
   ],
   "metadata": {
    "collapsed": false,
    "pycharm": {
     "name": "#%%\n"
    }
   }
  },
  {
   "cell_type": "code",
   "execution_count": 33,
   "outputs": [
    {
     "data": {
      "text/plain": "array([[1589,    0,   26,   29,    4,   35,   33,    3,   23,   12],\n       [   3, 1992,   14,    6,    2,   14,   11,    9,    8,    1],\n       [  39,   11, 1481,   37,   25,   40,   25,   29,   63,   28],\n       [  12,   11,   80, 1453,   11,   77,   18,   19,   68,   28],\n       [  18,   15,   37,    6, 1426,   29,   35,   28,   22,  122],\n       [  30,    3,   66,   79,   37, 1198,   50,   26,   57,   47],\n       [  27,    3,   31,   13,   10,   41, 1602,    7,   22,   14],\n       [  12,   12,   41,    7,   23,   15,    1, 1660,   16,   91],\n       [  34,   16,  111,   79,   24,   88,   24,   23, 1381,   31],\n       [  21,   11,   45,   38,  129,   29,    6,   74,   40, 1448]],\n      dtype=int64)"
     },
     "execution_count": 33,
     "metadata": {},
     "output_type": "execute_result"
    }
   ],
   "source": [
    "CM = confusion_matrix(y_test, y_pred)\n",
    "CM"
   ],
   "metadata": {
    "collapsed": false,
    "pycharm": {
     "name": "#%%\n"
    }
   }
  },
  {
   "cell_type": "code",
   "execution_count": 34,
   "outputs": [],
   "source": [
    "import pandas as pd"
   ],
   "metadata": {
    "collapsed": false,
    "pycharm": {
     "name": "#%%\n"
    }
   }
  },
  {
   "cell_type": "code",
   "execution_count": 35,
   "outputs": [],
   "source": [
    "data = pd.read_csv(\"pred_for_task.csv\")"
   ],
   "metadata": {
    "collapsed": false,
    "pycharm": {
     "name": "#%%\n"
    }
   }
  },
  {
   "cell_type": "code",
   "execution_count": 36,
   "outputs": [
    {
     "data": {
      "text/plain": "   FileName  Label  f0  f1  f2  f3  f4  f5  f6  f7  ...  f774  f775  f776  \\\n0     file1      7   0   0   0   0   0   0   0   0  ...     0     0     0   \n1     file2      2   0   0   0   0   0   0   0   0  ...     0     0     0   \n2     file3      1   0   0   0   0   0   0   0   0  ...     0     0     0   \n3     file4      0   0   0   0   0   0   0   0   0  ...     0     0     0   \n4     file5      4   0   0   0   0   0   0   0   0  ...     0     0     0   \n5     file6      1   0   0   0   0   0   0   0   0  ...     0     0     0   \n6     file7      4   0   0   0   0   0   0   0   0  ...     0     0     0   \n7     file8      9   0   0   0   0   0   0   0   0  ...     0     0     0   \n8     file9      5   0   0   0   0   0   0   0   0  ...     0     0     0   \n9    file10      9   0   0   0   0   0   0   0   0  ...     0     0     0   \n10   file11      0   0   0   0   0   0   0   0   0  ...     0     0     0   \n11   file12      6   0   0   0   0   0   0   0   0  ...     0     0     0   \n12   file13      9   0   0   0   0   0   0   0   0  ...     0     0     0   \n13   file14      0   0   0   0   0   0   0   0   0  ...     0     0     0   \n14   file15      1   0   0   0   0   0   0   0   0  ...     0     0     0   \n15   file16      5   0   0   0   0   0   0   0   0  ...     0     0     0   \n16   file17      9   0   0   0   0   0   0   0   0  ...     0     0     0   \n17   file18      7   0   0   0   0   0   0   0   0  ...     0     0     0   \n18   file19      3   0   0   0   0   0   0   0   0  ...     0     0     0   \n19   file20      4   0   0   0   0   0   0   0   0  ...     0     0     0   \n20   file21      9   0   0   0   0   0   0   0   0  ...     0     0     0   \n21   file22      6   0   0   0   0   0   0   0   0  ...     0     0     0   \n22   file23      6   0   0   0   0   0   0   0   0  ...     0     0     0   \n23   file24      5   0   0   0   0   0   0   0   0  ...     0     0     0   \n24   file25      4   0   0   0   0   0   0   0   0  ...     0     0     0   \n25   file26      0   0   0   0   0   0   0   0   0  ...     0     0     0   \n26   file27      7   0   0   0   0   0   0   0   0  ...     0     0     0   \n27   file28      4   0   0   0   0   0   0   0   0  ...     0     0     0   \n28   file29      0   0   0   0   0   0   0   0   0  ...     0     0     0   \n29   file30      1   0   0   0   0   0   0   0   0  ...     0     0     0   \n\n    f777  f778  f779  f780  f781  f782  f783  \n0      0     0     0     0     0     0     0  \n1      0     0     0     0     0     0     0  \n2      0     0     0     0     0     0     0  \n3      0     0     0     0     0     0     0  \n4      0     0     0     0     0     0     0  \n5      0     0     0     0     0     0     0  \n6      0     0     0     0     0     0     0  \n7      0     0     0     0     0     0     0  \n8      0     0     0     0     0     0     0  \n9      0     0     0     0     0     0     0  \n10     0     0     0     0     0     0     0  \n11     0     0     0     0     0     0     0  \n12     0     0     0     0     0     0     0  \n13     0     0     0     0     0     0     0  \n14     0     0     0     0     0     0     0  \n15     0     0     0     0     0     0     0  \n16     0     0     0     0     0     0     0  \n17     0     0     0     0     0     0     0  \n18     0     0     0     0     0     0     0  \n19     0     0     0     0     0     0     0  \n20     0     0     0     0     0     0     0  \n21     0     0     0     0     0     0     0  \n22     0     0     0     0     0     0     0  \n23     0     0     0     0     0     0     0  \n24     0     0     0     0     0     0     0  \n25     0     0     0     0     0     0     0  \n26     0     0     0     0     0     0     0  \n27     0     0     0     0     0     0     0  \n28     0     0     0     0     0     0     0  \n29     0     0     0     0     0     0     0  \n\n[30 rows x 786 columns]",
      "text/html": "<div>\n<style scoped>\n    .dataframe tbody tr th:only-of-type {\n        vertical-align: middle;\n    }\n\n    .dataframe tbody tr th {\n        vertical-align: top;\n    }\n\n    .dataframe thead th {\n        text-align: right;\n    }\n</style>\n<table border=\"1\" class=\"dataframe\">\n  <thead>\n    <tr style=\"text-align: right;\">\n      <th></th>\n      <th>FileName</th>\n      <th>Label</th>\n      <th>f0</th>\n      <th>f1</th>\n      <th>f2</th>\n      <th>f3</th>\n      <th>f4</th>\n      <th>f5</th>\n      <th>f6</th>\n      <th>f7</th>\n      <th>...</th>\n      <th>f774</th>\n      <th>f775</th>\n      <th>f776</th>\n      <th>f777</th>\n      <th>f778</th>\n      <th>f779</th>\n      <th>f780</th>\n      <th>f781</th>\n      <th>f782</th>\n      <th>f783</th>\n    </tr>\n  </thead>\n  <tbody>\n    <tr>\n      <th>0</th>\n      <td>file1</td>\n      <td>7</td>\n      <td>0</td>\n      <td>0</td>\n      <td>0</td>\n      <td>0</td>\n      <td>0</td>\n      <td>0</td>\n      <td>0</td>\n      <td>0</td>\n      <td>...</td>\n      <td>0</td>\n      <td>0</td>\n      <td>0</td>\n      <td>0</td>\n      <td>0</td>\n      <td>0</td>\n      <td>0</td>\n      <td>0</td>\n      <td>0</td>\n      <td>0</td>\n    </tr>\n    <tr>\n      <th>1</th>\n      <td>file2</td>\n      <td>2</td>\n      <td>0</td>\n      <td>0</td>\n      <td>0</td>\n      <td>0</td>\n      <td>0</td>\n      <td>0</td>\n      <td>0</td>\n      <td>0</td>\n      <td>...</td>\n      <td>0</td>\n      <td>0</td>\n      <td>0</td>\n      <td>0</td>\n      <td>0</td>\n      <td>0</td>\n      <td>0</td>\n      <td>0</td>\n      <td>0</td>\n      <td>0</td>\n    </tr>\n    <tr>\n      <th>2</th>\n      <td>file3</td>\n      <td>1</td>\n      <td>0</td>\n      <td>0</td>\n      <td>0</td>\n      <td>0</td>\n      <td>0</td>\n      <td>0</td>\n      <td>0</td>\n      <td>0</td>\n      <td>...</td>\n      <td>0</td>\n      <td>0</td>\n      <td>0</td>\n      <td>0</td>\n      <td>0</td>\n      <td>0</td>\n      <td>0</td>\n      <td>0</td>\n      <td>0</td>\n      <td>0</td>\n    </tr>\n    <tr>\n      <th>3</th>\n      <td>file4</td>\n      <td>0</td>\n      <td>0</td>\n      <td>0</td>\n      <td>0</td>\n      <td>0</td>\n      <td>0</td>\n      <td>0</td>\n      <td>0</td>\n      <td>0</td>\n      <td>...</td>\n      <td>0</td>\n      <td>0</td>\n      <td>0</td>\n      <td>0</td>\n      <td>0</td>\n      <td>0</td>\n      <td>0</td>\n      <td>0</td>\n      <td>0</td>\n      <td>0</td>\n    </tr>\n    <tr>\n      <th>4</th>\n      <td>file5</td>\n      <td>4</td>\n      <td>0</td>\n      <td>0</td>\n      <td>0</td>\n      <td>0</td>\n      <td>0</td>\n      <td>0</td>\n      <td>0</td>\n      <td>0</td>\n      <td>...</td>\n      <td>0</td>\n      <td>0</td>\n      <td>0</td>\n      <td>0</td>\n      <td>0</td>\n      <td>0</td>\n      <td>0</td>\n      <td>0</td>\n      <td>0</td>\n      <td>0</td>\n    </tr>\n    <tr>\n      <th>5</th>\n      <td>file6</td>\n      <td>1</td>\n      <td>0</td>\n      <td>0</td>\n      <td>0</td>\n      <td>0</td>\n      <td>0</td>\n      <td>0</td>\n      <td>0</td>\n      <td>0</td>\n      <td>...</td>\n      <td>0</td>\n      <td>0</td>\n      <td>0</td>\n      <td>0</td>\n      <td>0</td>\n      <td>0</td>\n      <td>0</td>\n      <td>0</td>\n      <td>0</td>\n      <td>0</td>\n    </tr>\n    <tr>\n      <th>6</th>\n      <td>file7</td>\n      <td>4</td>\n      <td>0</td>\n      <td>0</td>\n      <td>0</td>\n      <td>0</td>\n      <td>0</td>\n      <td>0</td>\n      <td>0</td>\n      <td>0</td>\n      <td>...</td>\n      <td>0</td>\n      <td>0</td>\n      <td>0</td>\n      <td>0</td>\n      <td>0</td>\n      <td>0</td>\n      <td>0</td>\n      <td>0</td>\n      <td>0</td>\n      <td>0</td>\n    </tr>\n    <tr>\n      <th>7</th>\n      <td>file8</td>\n      <td>9</td>\n      <td>0</td>\n      <td>0</td>\n      <td>0</td>\n      <td>0</td>\n      <td>0</td>\n      <td>0</td>\n      <td>0</td>\n      <td>0</td>\n      <td>...</td>\n      <td>0</td>\n      <td>0</td>\n      <td>0</td>\n      <td>0</td>\n      <td>0</td>\n      <td>0</td>\n      <td>0</td>\n      <td>0</td>\n      <td>0</td>\n      <td>0</td>\n    </tr>\n    <tr>\n      <th>8</th>\n      <td>file9</td>\n      <td>5</td>\n      <td>0</td>\n      <td>0</td>\n      <td>0</td>\n      <td>0</td>\n      <td>0</td>\n      <td>0</td>\n      <td>0</td>\n      <td>0</td>\n      <td>...</td>\n      <td>0</td>\n      <td>0</td>\n      <td>0</td>\n      <td>0</td>\n      <td>0</td>\n      <td>0</td>\n      <td>0</td>\n      <td>0</td>\n      <td>0</td>\n      <td>0</td>\n    </tr>\n    <tr>\n      <th>9</th>\n      <td>file10</td>\n      <td>9</td>\n      <td>0</td>\n      <td>0</td>\n      <td>0</td>\n      <td>0</td>\n      <td>0</td>\n      <td>0</td>\n      <td>0</td>\n      <td>0</td>\n      <td>...</td>\n      <td>0</td>\n      <td>0</td>\n      <td>0</td>\n      <td>0</td>\n      <td>0</td>\n      <td>0</td>\n      <td>0</td>\n      <td>0</td>\n      <td>0</td>\n      <td>0</td>\n    </tr>\n    <tr>\n      <th>10</th>\n      <td>file11</td>\n      <td>0</td>\n      <td>0</td>\n      <td>0</td>\n      <td>0</td>\n      <td>0</td>\n      <td>0</td>\n      <td>0</td>\n      <td>0</td>\n      <td>0</td>\n      <td>...</td>\n      <td>0</td>\n      <td>0</td>\n      <td>0</td>\n      <td>0</td>\n      <td>0</td>\n      <td>0</td>\n      <td>0</td>\n      <td>0</td>\n      <td>0</td>\n      <td>0</td>\n    </tr>\n    <tr>\n      <th>11</th>\n      <td>file12</td>\n      <td>6</td>\n      <td>0</td>\n      <td>0</td>\n      <td>0</td>\n      <td>0</td>\n      <td>0</td>\n      <td>0</td>\n      <td>0</td>\n      <td>0</td>\n      <td>...</td>\n      <td>0</td>\n      <td>0</td>\n      <td>0</td>\n      <td>0</td>\n      <td>0</td>\n      <td>0</td>\n      <td>0</td>\n      <td>0</td>\n      <td>0</td>\n      <td>0</td>\n    </tr>\n    <tr>\n      <th>12</th>\n      <td>file13</td>\n      <td>9</td>\n      <td>0</td>\n      <td>0</td>\n      <td>0</td>\n      <td>0</td>\n      <td>0</td>\n      <td>0</td>\n      <td>0</td>\n      <td>0</td>\n      <td>...</td>\n      <td>0</td>\n      <td>0</td>\n      <td>0</td>\n      <td>0</td>\n      <td>0</td>\n      <td>0</td>\n      <td>0</td>\n      <td>0</td>\n      <td>0</td>\n      <td>0</td>\n    </tr>\n    <tr>\n      <th>13</th>\n      <td>file14</td>\n      <td>0</td>\n      <td>0</td>\n      <td>0</td>\n      <td>0</td>\n      <td>0</td>\n      <td>0</td>\n      <td>0</td>\n      <td>0</td>\n      <td>0</td>\n      <td>...</td>\n      <td>0</td>\n      <td>0</td>\n      <td>0</td>\n      <td>0</td>\n      <td>0</td>\n      <td>0</td>\n      <td>0</td>\n      <td>0</td>\n      <td>0</td>\n      <td>0</td>\n    </tr>\n    <tr>\n      <th>14</th>\n      <td>file15</td>\n      <td>1</td>\n      <td>0</td>\n      <td>0</td>\n      <td>0</td>\n      <td>0</td>\n      <td>0</td>\n      <td>0</td>\n      <td>0</td>\n      <td>0</td>\n      <td>...</td>\n      <td>0</td>\n      <td>0</td>\n      <td>0</td>\n      <td>0</td>\n      <td>0</td>\n      <td>0</td>\n      <td>0</td>\n      <td>0</td>\n      <td>0</td>\n      <td>0</td>\n    </tr>\n    <tr>\n      <th>15</th>\n      <td>file16</td>\n      <td>5</td>\n      <td>0</td>\n      <td>0</td>\n      <td>0</td>\n      <td>0</td>\n      <td>0</td>\n      <td>0</td>\n      <td>0</td>\n      <td>0</td>\n      <td>...</td>\n      <td>0</td>\n      <td>0</td>\n      <td>0</td>\n      <td>0</td>\n      <td>0</td>\n      <td>0</td>\n      <td>0</td>\n      <td>0</td>\n      <td>0</td>\n      <td>0</td>\n    </tr>\n    <tr>\n      <th>16</th>\n      <td>file17</td>\n      <td>9</td>\n      <td>0</td>\n      <td>0</td>\n      <td>0</td>\n      <td>0</td>\n      <td>0</td>\n      <td>0</td>\n      <td>0</td>\n      <td>0</td>\n      <td>...</td>\n      <td>0</td>\n      <td>0</td>\n      <td>0</td>\n      <td>0</td>\n      <td>0</td>\n      <td>0</td>\n      <td>0</td>\n      <td>0</td>\n      <td>0</td>\n      <td>0</td>\n    </tr>\n    <tr>\n      <th>17</th>\n      <td>file18</td>\n      <td>7</td>\n      <td>0</td>\n      <td>0</td>\n      <td>0</td>\n      <td>0</td>\n      <td>0</td>\n      <td>0</td>\n      <td>0</td>\n      <td>0</td>\n      <td>...</td>\n      <td>0</td>\n      <td>0</td>\n      <td>0</td>\n      <td>0</td>\n      <td>0</td>\n      <td>0</td>\n      <td>0</td>\n      <td>0</td>\n      <td>0</td>\n      <td>0</td>\n    </tr>\n    <tr>\n      <th>18</th>\n      <td>file19</td>\n      <td>3</td>\n      <td>0</td>\n      <td>0</td>\n      <td>0</td>\n      <td>0</td>\n      <td>0</td>\n      <td>0</td>\n      <td>0</td>\n      <td>0</td>\n      <td>...</td>\n      <td>0</td>\n      <td>0</td>\n      <td>0</td>\n      <td>0</td>\n      <td>0</td>\n      <td>0</td>\n      <td>0</td>\n      <td>0</td>\n      <td>0</td>\n      <td>0</td>\n    </tr>\n    <tr>\n      <th>19</th>\n      <td>file20</td>\n      <td>4</td>\n      <td>0</td>\n      <td>0</td>\n      <td>0</td>\n      <td>0</td>\n      <td>0</td>\n      <td>0</td>\n      <td>0</td>\n      <td>0</td>\n      <td>...</td>\n      <td>0</td>\n      <td>0</td>\n      <td>0</td>\n      <td>0</td>\n      <td>0</td>\n      <td>0</td>\n      <td>0</td>\n      <td>0</td>\n      <td>0</td>\n      <td>0</td>\n    </tr>\n    <tr>\n      <th>20</th>\n      <td>file21</td>\n      <td>9</td>\n      <td>0</td>\n      <td>0</td>\n      <td>0</td>\n      <td>0</td>\n      <td>0</td>\n      <td>0</td>\n      <td>0</td>\n      <td>0</td>\n      <td>...</td>\n      <td>0</td>\n      <td>0</td>\n      <td>0</td>\n      <td>0</td>\n      <td>0</td>\n      <td>0</td>\n      <td>0</td>\n      <td>0</td>\n      <td>0</td>\n      <td>0</td>\n    </tr>\n    <tr>\n      <th>21</th>\n      <td>file22</td>\n      <td>6</td>\n      <td>0</td>\n      <td>0</td>\n      <td>0</td>\n      <td>0</td>\n      <td>0</td>\n      <td>0</td>\n      <td>0</td>\n      <td>0</td>\n      <td>...</td>\n      <td>0</td>\n      <td>0</td>\n      <td>0</td>\n      <td>0</td>\n      <td>0</td>\n      <td>0</td>\n      <td>0</td>\n      <td>0</td>\n      <td>0</td>\n      <td>0</td>\n    </tr>\n    <tr>\n      <th>22</th>\n      <td>file23</td>\n      <td>6</td>\n      <td>0</td>\n      <td>0</td>\n      <td>0</td>\n      <td>0</td>\n      <td>0</td>\n      <td>0</td>\n      <td>0</td>\n      <td>0</td>\n      <td>...</td>\n      <td>0</td>\n      <td>0</td>\n      <td>0</td>\n      <td>0</td>\n      <td>0</td>\n      <td>0</td>\n      <td>0</td>\n      <td>0</td>\n      <td>0</td>\n      <td>0</td>\n    </tr>\n    <tr>\n      <th>23</th>\n      <td>file24</td>\n      <td>5</td>\n      <td>0</td>\n      <td>0</td>\n      <td>0</td>\n      <td>0</td>\n      <td>0</td>\n      <td>0</td>\n      <td>0</td>\n      <td>0</td>\n      <td>...</td>\n      <td>0</td>\n      <td>0</td>\n      <td>0</td>\n      <td>0</td>\n      <td>0</td>\n      <td>0</td>\n      <td>0</td>\n      <td>0</td>\n      <td>0</td>\n      <td>0</td>\n    </tr>\n    <tr>\n      <th>24</th>\n      <td>file25</td>\n      <td>4</td>\n      <td>0</td>\n      <td>0</td>\n      <td>0</td>\n      <td>0</td>\n      <td>0</td>\n      <td>0</td>\n      <td>0</td>\n      <td>0</td>\n      <td>...</td>\n      <td>0</td>\n      <td>0</td>\n      <td>0</td>\n      <td>0</td>\n      <td>0</td>\n      <td>0</td>\n      <td>0</td>\n      <td>0</td>\n      <td>0</td>\n      <td>0</td>\n    </tr>\n    <tr>\n      <th>25</th>\n      <td>file26</td>\n      <td>0</td>\n      <td>0</td>\n      <td>0</td>\n      <td>0</td>\n      <td>0</td>\n      <td>0</td>\n      <td>0</td>\n      <td>0</td>\n      <td>0</td>\n      <td>...</td>\n      <td>0</td>\n      <td>0</td>\n      <td>0</td>\n      <td>0</td>\n      <td>0</td>\n      <td>0</td>\n      <td>0</td>\n      <td>0</td>\n      <td>0</td>\n      <td>0</td>\n    </tr>\n    <tr>\n      <th>26</th>\n      <td>file27</td>\n      <td>7</td>\n      <td>0</td>\n      <td>0</td>\n      <td>0</td>\n      <td>0</td>\n      <td>0</td>\n      <td>0</td>\n      <td>0</td>\n      <td>0</td>\n      <td>...</td>\n      <td>0</td>\n      <td>0</td>\n      <td>0</td>\n      <td>0</td>\n      <td>0</td>\n      <td>0</td>\n      <td>0</td>\n      <td>0</td>\n      <td>0</td>\n      <td>0</td>\n    </tr>\n    <tr>\n      <th>27</th>\n      <td>file28</td>\n      <td>4</td>\n      <td>0</td>\n      <td>0</td>\n      <td>0</td>\n      <td>0</td>\n      <td>0</td>\n      <td>0</td>\n      <td>0</td>\n      <td>0</td>\n      <td>...</td>\n      <td>0</td>\n      <td>0</td>\n      <td>0</td>\n      <td>0</td>\n      <td>0</td>\n      <td>0</td>\n      <td>0</td>\n      <td>0</td>\n      <td>0</td>\n      <td>0</td>\n    </tr>\n    <tr>\n      <th>28</th>\n      <td>file29</td>\n      <td>0</td>\n      <td>0</td>\n      <td>0</td>\n      <td>0</td>\n      <td>0</td>\n      <td>0</td>\n      <td>0</td>\n      <td>0</td>\n      <td>0</td>\n      <td>...</td>\n      <td>0</td>\n      <td>0</td>\n      <td>0</td>\n      <td>0</td>\n      <td>0</td>\n      <td>0</td>\n      <td>0</td>\n      <td>0</td>\n      <td>0</td>\n      <td>0</td>\n    </tr>\n    <tr>\n      <th>29</th>\n      <td>file30</td>\n      <td>1</td>\n      <td>0</td>\n      <td>0</td>\n      <td>0</td>\n      <td>0</td>\n      <td>0</td>\n      <td>0</td>\n      <td>0</td>\n      <td>0</td>\n      <td>...</td>\n      <td>0</td>\n      <td>0</td>\n      <td>0</td>\n      <td>0</td>\n      <td>0</td>\n      <td>0</td>\n      <td>0</td>\n      <td>0</td>\n      <td>0</td>\n      <td>0</td>\n    </tr>\n  </tbody>\n</table>\n<p>30 rows × 786 columns</p>\n</div>"
     },
     "execution_count": 36,
     "metadata": {},
     "output_type": "execute_result"
    }
   ],
   "source": [
    "data"
   ],
   "metadata": {
    "collapsed": false,
    "pycharm": {
     "name": "#%%\n"
    }
   }
  },
  {
   "cell_type": "code",
   "execution_count": 37,
   "outputs": [
    {
     "data": {
      "text/plain": "   f0  f1  f2  f3  f4  f5  f6  f7  f8  f9  ...  f774  f775  f776  f777  f778  \\\n0   0   0   0   0   0   0   0   0   0   0  ...     0     0     0     0     0   \n1   0   0   0   0   0   0   0   0   0   0  ...     0     0     0     0     0   \n2   0   0   0   0   0   0   0   0   0   0  ...     0     0     0     0     0   \n3   0   0   0   0   0   0   0   0   0   0  ...     0     0     0     0     0   \n4   0   0   0   0   0   0   0   0   0   0  ...     0     0     0     0     0   \n\n   f779  f780  f781  f782  f783  \n0     0     0     0     0     0  \n1     0     0     0     0     0  \n2     0     0     0     0     0  \n3     0     0     0     0     0  \n4     0     0     0     0     0  \n\n[5 rows x 784 columns]",
      "text/html": "<div>\n<style scoped>\n    .dataframe tbody tr th:only-of-type {\n        vertical-align: middle;\n    }\n\n    .dataframe tbody tr th {\n        vertical-align: top;\n    }\n\n    .dataframe thead th {\n        text-align: right;\n    }\n</style>\n<table border=\"1\" class=\"dataframe\">\n  <thead>\n    <tr style=\"text-align: right;\">\n      <th></th>\n      <th>f0</th>\n      <th>f1</th>\n      <th>f2</th>\n      <th>f3</th>\n      <th>f4</th>\n      <th>f5</th>\n      <th>f6</th>\n      <th>f7</th>\n      <th>f8</th>\n      <th>f9</th>\n      <th>...</th>\n      <th>f774</th>\n      <th>f775</th>\n      <th>f776</th>\n      <th>f777</th>\n      <th>f778</th>\n      <th>f779</th>\n      <th>f780</th>\n      <th>f781</th>\n      <th>f782</th>\n      <th>f783</th>\n    </tr>\n  </thead>\n  <tbody>\n    <tr>\n      <th>0</th>\n      <td>0</td>\n      <td>0</td>\n      <td>0</td>\n      <td>0</td>\n      <td>0</td>\n      <td>0</td>\n      <td>0</td>\n      <td>0</td>\n      <td>0</td>\n      <td>0</td>\n      <td>...</td>\n      <td>0</td>\n      <td>0</td>\n      <td>0</td>\n      <td>0</td>\n      <td>0</td>\n      <td>0</td>\n      <td>0</td>\n      <td>0</td>\n      <td>0</td>\n      <td>0</td>\n    </tr>\n    <tr>\n      <th>1</th>\n      <td>0</td>\n      <td>0</td>\n      <td>0</td>\n      <td>0</td>\n      <td>0</td>\n      <td>0</td>\n      <td>0</td>\n      <td>0</td>\n      <td>0</td>\n      <td>0</td>\n      <td>...</td>\n      <td>0</td>\n      <td>0</td>\n      <td>0</td>\n      <td>0</td>\n      <td>0</td>\n      <td>0</td>\n      <td>0</td>\n      <td>0</td>\n      <td>0</td>\n      <td>0</td>\n    </tr>\n    <tr>\n      <th>2</th>\n      <td>0</td>\n      <td>0</td>\n      <td>0</td>\n      <td>0</td>\n      <td>0</td>\n      <td>0</td>\n      <td>0</td>\n      <td>0</td>\n      <td>0</td>\n      <td>0</td>\n      <td>...</td>\n      <td>0</td>\n      <td>0</td>\n      <td>0</td>\n      <td>0</td>\n      <td>0</td>\n      <td>0</td>\n      <td>0</td>\n      <td>0</td>\n      <td>0</td>\n      <td>0</td>\n    </tr>\n    <tr>\n      <th>3</th>\n      <td>0</td>\n      <td>0</td>\n      <td>0</td>\n      <td>0</td>\n      <td>0</td>\n      <td>0</td>\n      <td>0</td>\n      <td>0</td>\n      <td>0</td>\n      <td>0</td>\n      <td>...</td>\n      <td>0</td>\n      <td>0</td>\n      <td>0</td>\n      <td>0</td>\n      <td>0</td>\n      <td>0</td>\n      <td>0</td>\n      <td>0</td>\n      <td>0</td>\n      <td>0</td>\n    </tr>\n    <tr>\n      <th>4</th>\n      <td>0</td>\n      <td>0</td>\n      <td>0</td>\n      <td>0</td>\n      <td>0</td>\n      <td>0</td>\n      <td>0</td>\n      <td>0</td>\n      <td>0</td>\n      <td>0</td>\n      <td>...</td>\n      <td>0</td>\n      <td>0</td>\n      <td>0</td>\n      <td>0</td>\n      <td>0</td>\n      <td>0</td>\n      <td>0</td>\n      <td>0</td>\n      <td>0</td>\n      <td>0</td>\n    </tr>\n  </tbody>\n</table>\n<p>5 rows × 784 columns</p>\n</div>"
     },
     "execution_count": 37,
     "metadata": {},
     "output_type": "execute_result"
    }
   ],
   "source": [
    "data = data.drop(columns=[\"FileName\",\"Label\"])\n",
    "data.head()"
   ],
   "metadata": {
    "collapsed": false,
    "pycharm": {
     "name": "#%%\n"
    }
   }
  },
  {
   "cell_type": "code",
   "execution_count": 38,
   "outputs": [],
   "source": [
    "data = data.to_numpy()"
   ],
   "metadata": {
    "collapsed": false,
    "pycharm": {
     "name": "#%%\n"
    }
   }
  },
  {
   "cell_type": "code",
   "execution_count": 39,
   "outputs": [
    {
     "data": {
      "text/plain": "array([[-332.27116927,  747.7987162 ,  -42.84481899, ...,   94.2118074 ,\n         -59.04736467,   -7.63229899],\n       [  20.69696209, -955.58458273, -152.71551708, ..., -262.65423458,\n         105.63611463,  119.84537391],\n       [-946.02686793, -430.84318261,   66.17633643, ...,  115.036273  ,\n         -20.63915867,  132.37537739],\n       ...,\n       [ 224.98822327,  881.03842296, -180.92093117, ...,   49.99183667,\n          66.86725258,  187.12632779],\n       [1128.03797971, -354.99535818, -183.85326766, ...,  240.38677901,\n         -25.81138928,   63.37802564],\n       [-765.24057399, -154.13449942, -107.92304472, ...,  139.25934043,\n          26.44104855,    4.60440769]])"
     },
     "execution_count": 39,
     "metadata": {},
     "output_type": "execute_result"
    }
   ],
   "source": [
    "data = modelPCA.transform(data)\n",
    "data"
   ],
   "metadata": {
    "collapsed": false,
    "pycharm": {
     "name": "#%%\n"
    }
   }
  },
  {
   "cell_type": "code",
   "execution_count": 40,
   "outputs": [
    {
     "data": {
      "text/plain": "array([ -16.76194237,  673.7894916 , -350.09123685, -263.33303208,\n       -450.41764842,  -51.94632821,  453.58234139,  686.7585585 ,\n       -300.13769065,   96.60450714,  173.45508167, -186.02953756,\n        181.76629137, -106.75327533, -457.01903357, -268.70706529,\n        167.23744251,  483.48379341,  157.97062525,  100.40954915,\n        -89.01594647,   58.78565857,  254.93017315, -155.37032356,\n         34.83151355,  161.16839764,  199.58332617,  181.09845589,\n        -16.90741857, -166.189934  ,  -47.47116295, -364.30181655,\n         38.50582035, -295.25751976, -101.08809189,  125.78288838,\n       -192.60782117,    4.77115785,  -32.072715  ,   15.98946281,\n       -170.06513505,  -47.26067531,  -36.62737424,   42.60510596,\n        -37.21467808, -149.47239598,   77.58524539,   12.42406366,\n         -5.04159084])"
     },
     "execution_count": 40,
     "metadata": {},
     "output_type": "execute_result"
    }
   ],
   "source": [
    "data[17] # file18"
   ],
   "metadata": {
    "collapsed": false,
    "pycharm": {
     "name": "#%%\n"
    }
   }
  },
  {
   "cell_type": "code",
   "execution_count": 41,
   "outputs": [
    {
     "data": {
      "text/plain": "array([[ -16.76194237,  673.7894916 , -350.09123685, -263.33303208,\n        -450.41764842,  -51.94632821,  453.58234139,  686.7585585 ,\n        -300.13769065,   96.60450714,  173.45508167, -186.02953756,\n         181.76629137, -106.75327533, -457.01903357, -268.70706529,\n         167.23744251,  483.48379341,  157.97062525,  100.40954915,\n         -89.01594647,   58.78565857,  254.93017315, -155.37032356,\n          34.83151355,  161.16839764,  199.58332617,  181.09845589,\n         -16.90741857, -166.189934  ,  -47.47116295, -364.30181655,\n          38.50582035, -295.25751976, -101.08809189,  125.78288838,\n        -192.60782117,    4.77115785,  -32.072715  ,   15.98946281,\n        -170.06513505,  -47.26067531,  -36.62737424,   42.60510596,\n         -37.21467808, -149.47239598,   77.58524539,   12.42406366,\n          -5.04159084]])"
     },
     "execution_count": 41,
     "metadata": {},
     "output_type": "execute_result"
    }
   ],
   "source": [
    "data[17].reshape(1,49)"
   ],
   "metadata": {
    "collapsed": false,
    "pycharm": {
     "name": "#%%\n"
    }
   }
  },
  {
   "cell_type": "code",
   "execution_count": 42,
   "outputs": [
    {
     "data": {
      "text/plain": "array([[0.00000000e+00, 0.00000000e+00, 7.81405636e-02, 2.64038294e-02,\n        0.00000000e+00, 1.75580025e-04, 0.00000000e+00, 8.80127646e-01,\n        6.77021266e-03, 8.38216806e-03]])"
     },
     "execution_count": 42,
     "metadata": {},
     "output_type": "execute_result"
    }
   ],
   "source": [
    "clf_tree.predict_proba(data[17].reshape(1,49))"
   ],
   "metadata": {
    "collapsed": false,
    "pycharm": {
     "name": "#%%\n"
    }
   }
  },
  {
   "cell_type": "code",
   "execution_count": 43,
   "outputs": [
    {
     "data": {
      "text/plain": "array([[-8.78175983e+02, -4.00637066e+02,  4.82033596e+01,\n        -5.71506394e+01, -3.18617473e+02, -3.92963466e+02,\n         5.57703058e+02, -2.24899017e+02, -1.32682113e+02,\n         7.43180817e+01,  3.33066557e+02,  4.16433219e+02,\n        -1.27556682e+01,  4.31372330e+01, -2.43000750e+02,\n        -2.18885016e+02, -1.58476942e+02, -2.03354126e+02,\n         2.12884302e+01, -1.96496665e+02, -3.15786975e+01,\n         1.23232665e+02,  5.96689765e+01,  1.59929376e+02,\n         3.08531311e-01,  3.47004052e+01, -1.78688471e+02,\n         7.88662205e+01, -1.24626706e+02,  1.03581648e+02,\n         1.16330471e+01,  9.68596681e+01,  1.49318445e+01,\n        -1.50660211e+01, -4.42361705e+01, -2.32488942e+01,\n        -1.39748383e+01, -1.13952181e+02, -4.59771324e+01,\n         9.11524765e+01, -2.65346126e+00, -4.21336234e+01,\n         3.59643592e+01,  1.24521941e+02,  2.55557948e+00,\n         1.33850058e+02,  1.15322278e+01,  2.10111481e+01,\n        -1.50908598e+02]])"
     },
     "execution_count": 43,
     "metadata": {},
     "output_type": "execute_result"
    }
   ],
   "source": [
    "data[14].reshape(1,49)"
   ],
   "metadata": {
    "collapsed": false,
    "pycharm": {
     "name": "#%%\n"
    }
   }
  },
  {
   "cell_type": "code",
   "execution_count": 44,
   "outputs": [
    {
     "data": {
      "text/plain": "array([[1.97913969e-09, 9.01924758e-01, 9.24697816e-03, 6.12026577e-02,\n        1.15154151e-05, 2.18960539e-03, 1.84035656e-03, 3.34833602e-04,\n        1.53574072e-02, 7.89188572e-03]])"
     },
     "execution_count": 44,
     "metadata": {},
     "output_type": "execute_result"
    }
   ],
   "source": [
    "clf_logreg.predict_proba(data[14].reshape(1,49))"
   ],
   "metadata": {
    "collapsed": false,
    "pycharm": {
     "name": "#%%\n"
    }
   }
  },
  {
   "cell_type": "code",
   "execution_count": 45,
   "outputs": [
    {
     "data": {
      "text/plain": "array([[  78.88755903, -355.51949546, -693.93137795,  392.9800926 ,\n          97.342625  , -295.63042799,  358.30185586,   76.19322324,\n         649.23525243, -644.74298939,  206.20065916,   52.798645  ,\n         413.82121819, -381.8783961 ,  425.16672969, -251.71402518,\n         232.70389308,  -89.36709425,  -21.95866065,  368.59895564,\n         284.37365816, -138.61257523,   96.92276486,   -2.688074  ,\n         253.4299582 , -186.52992006, -120.04414785,  405.66976251,\n         119.80096022, -539.55289262,  118.02975019,  -48.34780786,\n           8.39517279,  -75.0796769 , -365.50253341,  -76.25076912,\n        -113.25137854, -158.92759711, -282.78791808,  118.92256248,\n         -32.74499344, -297.46959391,  210.28424121,  242.3215544 ,\n         184.21801778, -161.84051781,  -64.04021599,  357.41929206,\n         187.13539738]])"
     },
     "execution_count": 45,
     "metadata": {},
     "output_type": "execute_result"
    }
   ],
   "source": [
    "data[18].reshape(1,49)"
   ],
   "metadata": {
    "collapsed": false,
    "pycharm": {
     "name": "#%%\n"
    }
   }
  },
  {
   "cell_type": "code",
   "execution_count": 46,
   "outputs": [
    {
     "data": {
      "text/plain": "array([[0.        , 0.        , 0.        , 0.6741573 , 0.05617978,\n        0.        , 0.26966292, 0.        , 0.        , 0.        ]])"
     },
     "execution_count": 46,
     "metadata": {},
     "output_type": "execute_result"
    }
   ],
   "source": [
    "clf_des_tree.predict_proba(data[18].reshape(1,49))"
   ],
   "metadata": {
    "collapsed": false,
    "pycharm": {
     "name": "#%%\n"
    }
   }
  }
 ],
 "metadata": {
  "kernelspec": {
   "display_name": "Python 3",
   "language": "python",
   "name": "python3"
  },
  "language_info": {
   "codemirror_mode": {
    "name": "ipython",
    "version": 2
   },
   "file_extension": ".py",
   "mimetype": "text/x-python",
   "name": "python",
   "nbconvert_exporter": "python",
   "pygments_lexer": "ipython2",
   "version": "2.7.6"
  }
 },
 "nbformat": 4,
 "nbformat_minor": 0
}