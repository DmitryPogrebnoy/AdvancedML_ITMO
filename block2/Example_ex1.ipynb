{
 "cells": [
  {
   "cell_type": "markdown",
   "metadata": {},
   "source": [
    "Here are the detailed instructions on how to complete the task."
   ]
  },
  {
   "cell_type": "markdown",
   "metadata": {},
   "source": [
    "First, import required libraries."
   ]
  },
  {
   "cell_type": "markdown",
   "metadata": {},
   "source": [
    "Install the modules."
   ]
  },
  {
   "cell_type": "code",
   "execution_count": 13,
   "metadata": {},
   "outputs": [
    {
     "name": "stdout",
     "output_type": "stream",
     "text": [
      "Requirement already satisfied: pip in c:\\users\\pogre\\pycharmprojects\\pythonproject1\\venv\\lib\\site-packages (22.0.3)\n",
      "Requirement already satisfied: imutils in c:\\users\\pogre\\pycharmprojects\\pythonproject1\\venv\\lib\\site-packages (0.5.4)\n",
      "Requirement already satisfied: opencv-python in c:\\users\\pogre\\pycharmprojects\\pythonproject1\\venv\\lib\\site-packages (4.5.5.62)\n",
      "Requirement already satisfied: numpy>=1.19.3 in c:\\users\\pogre\\pycharmprojects\\pythonproject1\\venv\\lib\\site-packages (from opencv-python) (1.22.2)\n"
     ]
    }
   ],
   "source": [
    "!pip install --upgrade pip\n",
    "!pip install imutils\n",
    "!pip install opencv-python"
   ]
  },
  {
   "cell_type": "code",
   "execution_count": 14,
   "metadata": {},
   "outputs": [],
   "source": [
    "from sklearn.preprocessing import LabelEncoder\n",
    "from sklearn.svm import LinearSVC\n",
    "from sklearn.metrics import classification_report\n",
    "from sklearn.model_selection import train_test_split\n",
    "from IPython.display import Image\n",
    "from imutils import paths\n",
    "import numpy as np\n",
    "import cv2\n",
    "import os"
   ]
  },
  {
   "cell_type": "markdown",
   "metadata": {},
   "source": [
    "To process images, obtain their histograms in order to find the intensity distribution. It can be done as follows."
   ]
  },
  {
   "cell_type": "code",
   "execution_count": 15,
   "metadata": {},
   "outputs": [],
   "source": [
    "def extract_histogram(image, bins=(8, 8, 8)):\n",
    "    hist = cv2.calcHist([image], [0, 1, 2], None, bins, [0, 256, 0, 256, 0, 256])\n",
    "    cv2.normalize(hist, hist)\n",
    "    return hist.flatten()"
   ]
  },
  {
   "cell_type": "markdown",
   "metadata": {},
   "source": [
    "Count the images in the root folder ‘train’ and calculate the histogram for each image. Next, separate labels from images. Cloud processing of images takes time (1-5 minutes)."
   ]
  },
  {
   "cell_type": "code",
   "execution_count": 16,
   "metadata": {},
   "outputs": [],
   "source": [
    "imagePaths = sorted(list(paths.list_images('train')))\n",
    "data = []\n",
    "labels = []\n",
    "\n",
    "for (i, imagePath) in enumerate(imagePaths):\n",
    "    image = cv2.imread(imagePath, 1)\n",
    "    label = imagePath.split(os.path.sep)[-1].split(\".\")[0]\n",
    "    hist = extract_histogram(image)\n",
    "    data.append(hist)\n",
    "    labels.append(label)"
   ]
  },
  {
   "cell_type": "markdown",
   "metadata": {},
   "source": [
    "Convert the labels into the convenient format 0 and 1 to find the code and label that correspond to a random image."
   ]
  },
  {
   "cell_type": "code",
   "execution_count": 17,
   "metadata": {},
   "outputs": [
    {
     "name": "stdout",
     "output_type": "stream",
     "text": [
      "0\n"
     ]
    },
    {
     "data": {
      "image/jpeg": "[encoded data removed]",
      "text/plain": "<IPython.core.display.Image object>"
     },
     "execution_count": 17,
     "metadata": {},
     "output_type": "execute_result"
    }
   ],
   "source": [
    "le = LabelEncoder()\n",
    "labels = le.fit_transform(labels)\n",
    "print(labels[0])\n",
    "Image(filename=imagePaths[0])"
   ]
  },
  {
   "cell_type": "markdown",
   "metadata": {},
   "source": [
    "0 stands for cats. Split the sample into training and test samples in a ratio of 75 to 25 with the parameter random_state = 51."
   ]
  },
  {
   "cell_type": "code",
   "execution_count": 18,
   "metadata": {},
   "outputs": [],
   "source": [
    "(trainData, testData, trainLabels, testLabels) = train_test_split(np.array(data), labels, test_size=0.25, random_state=10)"
   ]
  },
  {
   "cell_type": "markdown",
   "metadata": {},
   "source": [
    "Train the model of the almost separating hyperplane on the data and evaluate it using the test data. The parameter C is proportional to the model parameter discussed in the module."
   ]
  },
  {
   "cell_type": "code",
   "execution_count": 19,
   "metadata": {},
   "outputs": [
    {
     "data": {
      "text/plain": "LinearSVC(C=1.27, random_state=10)"
     },
     "execution_count": 19,
     "metadata": {},
     "output_type": "execute_result"
    }
   ],
   "source": [
    "model = LinearSVC(random_state = 10, C = 1.27)\n",
    "model.fit(trainData, trainLabels)"
   ]
  },
  {
   "cell_type": "code",
   "execution_count": 20,
   "metadata": {},
   "outputs": [],
   "source": [
    "predictions = model.predict(testData)"
   ]
  },
  {
   "cell_type": "code",
   "execution_count": 21,
   "metadata": {},
   "outputs": [
    {
     "name": "stdout",
     "output_type": "stream",
     "text": [
      "              precision    recall  f1-score   support\n",
      "\n",
      "         cat       0.62      0.67      0.64        12\n",
      "         dog       0.67      0.62      0.64        13\n",
      "\n",
      "    accuracy                           0.64        25\n",
      "   macro avg       0.64      0.64      0.64        25\n",
      "weighted avg       0.64      0.64      0.64        25\n",
      "\n"
     ]
    }
   ],
   "source": [
    "print(classification_report(testLabels, predictions, target_names=le.classes_))"
   ]
  },
  {
   "cell_type": "code",
   "execution_count": 22,
   "metadata": {},
   "outputs": [
    {
     "data": {
      "text/plain": "0.64"
     },
     "execution_count": 22,
     "metadata": {},
     "output_type": "execute_result"
    }
   ],
   "source": [
    "from sklearn.metrics import f1_score\n",
    "predictions = model.predict(testData)\n",
    "f1_score(testLabels, predictions, average='macro')"
   ]
  },
  {
   "cell_type": "markdown",
   "metadata": {},
   "source": [
    "Print the coefficient $\\theta_1$ of the constructed hyperplane: "
   ]
  },
  {
   "cell_type": "code",
   "execution_count": 26,
   "metadata": {},
   "outputs": [
    {
     "data": {
      "text/plain": "array([[-1.11479354e-01, -3.15171533e-01, -2.46831493e-01,\n        -4.36902523e-01, -6.13529670e-01, -3.54150456e-01,\n        -3.74835144e-01, -1.25947648e-01,  8.18422976e-01,\n         2.85639440e-01, -3.31814568e-01,  3.58090197e-02,\n         2.18955757e-02, -1.47201539e-02, -1.66285612e-02,\n        -5.22200782e-01,  2.69477417e-02,  4.91894127e-01,\n         4.00309725e-02, -1.18363793e-01,  3.94231618e-01,\n        -3.99224905e-02, -3.88763509e-03, -1.18775437e-03,\n         0.00000000e+00,  2.84266019e-02,  6.34592921e-02,\n        -1.40369055e-02,  1.43126197e-01,  4.07253679e-01,\n        -1.47784702e-01, -6.84979656e-03,  0.00000000e+00,\n         7.53430945e-04,  1.96741006e-03,  9.11024860e-04,\n         1.29609796e-03,  7.53819236e-04, -5.94527451e-02,\n        -2.49221374e-02,  0.00000000e+00,  0.00000000e+00,\n         0.00000000e+00,  2.04879776e-05,  7.79611593e-05,\n         2.07843082e-03,  6.94422524e-04, -1.26380007e-04,\n         0.00000000e+00,  0.00000000e+00,  0.00000000e+00,\n         0.00000000e+00,  0.00000000e+00,  2.24166546e-05,\n         6.28392154e-04,  5.60416366e-06,  0.00000000e+00,\n         0.00000000e+00,  0.00000000e+00,  0.00000000e+00,\n         0.00000000e+00,  0.00000000e+00,  8.40624549e-05,\n         1.08160361e-03,  2.77419903e-01,  1.99086104e-01,\n         1.99100643e-02,  3.87170767e-01, -7.71602752e-02,\n         2.37493089e-01,  1.74590290e-01, -5.32286529e-02,\n         1.81431818e-01, -2.25951350e-02, -5.80779910e-01,\n         4.75742462e-01,  1.47204825e-01,  3.57430945e-02,\n        -4.94824084e-02, -4.64379485e-01, -6.05707867e-03,\n         9.79386922e-01, -2.11271424e-01,  5.47868574e-01,\n         5.08548758e-01, -2.31920933e-02, -6.93816841e-03,\n        -2.61762803e-02,  0.00000000e+00,  3.09812678e-02,\n         6.80776351e-01,  4.49139698e-02,  5.48653132e-01,\n         7.83167680e-01, -8.21897326e-03, -7.22893656e-03,\n         0.00000000e+00,  1.25571821e-04,  2.44575799e-02,\n         1.00968603e-01,  1.13986083e-01, -5.03700229e-03,\n        -4.06194854e-02, -7.17826384e-02,  0.00000000e+00,\n         0.00000000e+00,  3.26121113e-03,  4.52115497e-03,\n         6.65679987e-03,  1.59886877e-03, -2.26024139e-03,\n        -3.47797786e-02,  0.00000000e+00,  0.00000000e+00,\n         0.00000000e+00,  6.27859092e-04,  6.02175555e-04,\n         4.03717996e-04,  7.42606237e-04, -7.48456400e-04,\n         0.00000000e+00,  0.00000000e+00,  0.00000000e+00,\n         0.00000000e+00,  0.00000000e+00,  0.00000000e+00,\n         2.07354049e-04,  3.54743556e-03,  1.46197784e-02,\n        -6.45030962e-03,  8.05280033e-04, -6.48678695e-05,\n         1.12933730e-03,  1.88002456e-03,  6.00850383e-04,\n         0.00000000e+00, -2.14436515e-01, -1.60355733e-01,\n         2.79284987e-02,  1.51071855e-02,  2.60298514e-01,\n         2.19549176e-02,  3.73346967e-03, -1.30551412e-03,\n        -2.64116128e-01,  3.07963991e-02, -1.54333378e+00,\n         2.17725084e-01,  2.26034839e-01, -4.94527990e-03,\n        -4.76232980e-03, -1.31615098e-02, -4.44820759e-04,\n         1.03816374e-02,  8.10585787e-01,  4.82285413e-01,\n        -4.34174754e-02,  1.82362602e-01,  1.42411933e-02,\n        -3.03270796e-03,  0.00000000e+00,  0.00000000e+00,\n         2.03452317e-02,  6.42996772e-01, -3.05725139e-02,\n        -9.93550550e-02,  3.89157738e-03, -1.29145300e-02,\n         0.00000000e+00,  0.00000000e+00, -1.66188250e-04,\n         1.14287341e-02,  1.38037624e-01,  4.03779146e-01,\n        -1.94775830e-01, -5.63869688e-02,  0.00000000e+00,\n         0.00000000e+00,  0.00000000e+00,  1.25571821e-04,\n         1.16750657e-02,  1.93293392e-02, -1.63265086e-03,\n        -9.66884135e-03,  0.00000000e+00,  0.00000000e+00,\n         0.00000000e+00,  0.00000000e+00,  0.00000000e+00,\n         5.36774257e-04,  6.02199041e-04,  4.04950059e-03,\n         1.06699720e-02,  1.72970799e-02,  2.57986594e-04,\n        -7.53079625e-05, -7.53079625e-05,  1.13654443e-04,\n         1.51539254e-04,  0.00000000e+00, -2.71377591e-02,\n        -3.35172156e-01, -2.54036108e-01, -2.50891484e-02,\n         4.85265445e-03,  1.28762331e-02,  2.07317646e-03,\n        -3.38611234e-04, -1.51395970e-01, -3.72976180e-01,\n         5.85444684e-01, -1.95076459e-01,  2.92852481e-02,\n         1.98100933e-02, -1.94713464e-03, -4.62178220e-03,\n        -7.42807587e-02, -5.31970841e-02,  6.10907207e-01,\n         2.98374275e-01,  2.19773540e-01,  1.59684393e-01,\n         2.41648675e-02, -4.77291119e-03, -3.82123455e-04,\n        -7.77915024e-05,  9.41598184e-04,  1.16750946e-01,\n         2.93744567e-01,  1.82403114e-01,  2.82401760e-01,\n         5.52894644e-02,  0.00000000e+00,  0.00000000e+00,\n         0.00000000e+00,  1.56762573e-02,  4.94285951e-01,\n        -7.24205684e-02, -7.00724244e-02, -1.88767132e-01,\n         0.00000000e+00,  0.00000000e+00,  0.00000000e+00,\n         0.00000000e+00,  1.42713524e-02,  2.73588302e-01,\n         2.09503771e-02, -3.09354156e-01,  0.00000000e+00,\n         0.00000000e+00,  0.00000000e+00,  0.00000000e+00,\n         0.00000000e+00,  1.55983994e-02,  1.39513294e-02,\n        -4.75070517e-03,  1.28993291e-03,  4.51476517e-03,\n         0.00000000e+00,  0.00000000e+00,  0.00000000e+00,\n         0.00000000e+00,  0.00000000e+00,  0.00000000e+00,\n         6.42723381e-02, -4.67333832e-02, -5.41815807e-02,\n        -5.45507526e-03, -5.94932895e-03, -8.81778707e-04,\n         3.78848135e-05,  0.00000000e+00, -3.97823994e-01,\n        -1.71546693e-01, -1.19163575e-01, -1.79614087e-02,\n        -8.67059164e-03,  3.06473677e-03,  7.70536530e-04,\n        -5.32103360e-04, -5.25503332e-02,  1.04158906e-01,\n         3.37064977e-01,  8.04822797e-01, -2.31883062e-01,\n        -3.21646735e-03, -3.22472240e-02, -7.48024238e-04,\n        -1.18071851e-02, -1.49799158e-02, -2.95055810e-02,\n         2.19637506e-01, -3.36022574e-01, -5.74539870e-01,\n         5.19537409e-01,  7.48910306e-02,  1.54401636e-04,\n         3.08803285e-05,  1.35008514e-03, -1.57922780e-03,\n         2.94886453e-02, -5.19777253e-01,  8.14133623e-01,\n         6.15747248e-01,  0.00000000e+00,  0.00000000e+00,\n         0.00000000e+00,  0.00000000e+00,  6.38486052e-03,\n         4.18228994e-01, -5.86361560e-01, -3.87457538e-01,\n         0.00000000e+00,  0.00000000e+00,  0.00000000e+00,\n         0.00000000e+00,  0.00000000e+00,  1.93569844e-02,\n         2.52928415e-01, -4.16978937e-01,  0.00000000e+00,\n         0.00000000e+00,  0.00000000e+00,  0.00000000e+00,\n         0.00000000e+00,  0.00000000e+00,  0.00000000e+00,\n         0.00000000e+00,  9.06546158e-02, -3.27745745e-04,\n         0.00000000e+00,  0.00000000e+00,  0.00000000e+00,\n         0.00000000e+00,  0.00000000e+00,  0.00000000e+00,\n         5.07942130e-02,  9.89314571e-03, -4.97290133e-04,\n        -2.30614444e-04,  0.00000000e+00,  2.08326682e-03,\n         0.00000000e+00,  3.78848135e-05, -3.35341432e-01,\n        -1.79653817e-01,  2.01917995e-01, -6.93272588e-03,\n         4.07244349e-03,  5.11271769e-03, -1.33650211e-02,\n         2.27308886e-04, -8.81822418e-03, -3.45902334e-02,\n         1.44775194e-01,  4.95855464e-01,  1.11741239e+00,\n         1.10889527e-01,  8.95429916e-03, -3.57950863e-02,\n         4.63204925e-04,  2.19250327e-03, -9.24844787e-04,\n        -1.11571217e-02,  5.46616094e-01,  7.81151877e-01,\n        -1.25771623e+00,  4.91352802e-01,  0.00000000e+00,\n         0.00000000e+00,  2.19291245e-04,  1.23380691e-03,\n        -1.11198288e-03,  6.09493685e-02,  3.63209918e-01,\n         1.33054191e+00,  0.00000000e+00,  0.00000000e+00,\n         0.00000000e+00,  0.00000000e+00,  0.00000000e+00,\n         1.97575393e-04,  1.79497942e-01, -3.39205786e-01,\n         0.00000000e+00,  0.00000000e+00,  0.00000000e+00,\n         0.00000000e+00,  0.00000000e+00,  0.00000000e+00,\n         0.00000000e+00,  0.00000000e+00,  1.05042445e-02,\n        -8.62752458e-05,  0.00000000e+00,  0.00000000e+00,\n         0.00000000e+00,  0.00000000e+00,  0.00000000e+00,\n         0.00000000e+00,  1.68869409e-01, -2.29384784e-03,\n        -3.36659849e-05,  0.00000000e+00,  0.00000000e+00,\n         0.00000000e+00,  0.00000000e+00,  0.00000000e+00,\n         6.52602858e-03, -6.41692961e-03,  1.63955199e-03,\n         8.43533816e-04, -1.44529673e-04,  2.41220381e-03,\n         3.28936860e-04,  0.00000000e+00, -3.01963367e-03,\n        -1.14409700e-02,  2.42122880e-01, -7.42960188e-01,\n         2.55734220e-01, -5.03460196e-05,  3.22926447e-03,\n        -5.71238598e-02,  0.00000000e+00, -7.76477218e-04,\n         1.35276041e-03,  2.65330214e-02,  8.83588834e-02,\n         2.82204523e-01,  6.83605965e-02, -4.96879098e-01,\n         0.00000000e+00,  3.08803285e-05,  9.26409833e-05,\n         4.34921228e-03, -6.75703322e-02, -1.50461805e-01,\n        -3.00514439e-01,  8.14418534e-01,  0.00000000e+00,\n         0.00000000e+00,  0.00000000e+00,  0.00000000e+00,\n        -8.90564146e-06, -2.00648911e-03,  3.58818695e-02,\n         2.84571163e-02,  0.00000000e+00,  0.00000000e+00,\n         0.00000000e+00,  0.00000000e+00,  0.00000000e+00,\n         0.00000000e+00,  0.00000000e+00,  0.00000000e+00,\n         0.00000000e+00,  0.00000000e+00,  0.00000000e+00,\n         0.00000000e+00,  0.00000000e+00,  0.00000000e+00,\n         0.00000000e+00,  0.00000000e+00,  1.25897462e-01,\n        -8.62752458e-05,  0.00000000e+00,  0.00000000e+00,\n         0.00000000e+00,  0.00000000e+00,  0.00000000e+00,\n         0.00000000e+00,  1.34926991e-01,  5.38828807e-03,\n        -2.76972168e-04,  5.60416366e-06,  0.00000000e+00,\n         1.09645623e-04,  1.09645623e-04,  0.00000000e+00,\n         6.44966506e-03,  1.32568789e-02,  1.14408216e-01,\n         1.13126585e-02,  1.54340359e-03,  5.76248939e-04,\n         2.19291245e-04,  3.28936860e-04,  0.00000000e+00,\n         6.44966453e-04,  1.43811376e-01,  6.58006529e-01,\n         2.07651215e-02,  1.26228896e-02, -2.83477788e-02,\n        -5.14520453e-03,  0.00000000e+00,  0.00000000e+00,\n         2.57986594e-04,  3.70146631e-02,  9.83727863e-04,\n        -9.08967319e-02, -8.78870490e-01,  1.91365377e-03,\n         0.00000000e+00,  0.00000000e+00,  0.00000000e+00,\n         0.00000000e+00,  3.62167060e-03, -2.12462097e-02,\n        -2.30177106e-01, -4.03104864e-01]])"
     },
     "execution_count": 26,
     "metadata": {},
     "output_type": "execute_result"
    }
   ],
   "source": [
    "model.coef_"
   ]
  },
  {
   "cell_type": "markdown",
   "metadata": {},
   "source": [
    "Calculate the predictions for an object in the test folder:"
   ]
  },
  {
   "cell_type": "code",
   "execution_count": 24,
   "metadata": {},
   "outputs": [
    {
     "ename": "error",
     "evalue": "OpenCV(4.5.5) D:\\a\\opencv-python\\opencv-python\\opencv\\modules\\imgproc\\src\\histogram.cpp:160: error: (-215:Assertion failed) j < nimages in function 'cv::histPrepareImages'\n",
     "output_type": "error",
     "traceback": [
      "\u001B[1;31m---------------------------------------------------------------------------\u001B[0m",
      "\u001B[1;31merror\u001B[0m                                     Traceback (most recent call last)",
      "Input \u001B[1;32mIn [24]\u001B[0m, in \u001B[0;36m<module>\u001B[1;34m\u001B[0m\n\u001B[0;32m      1\u001B[0m singleImage \u001B[38;5;241m=\u001B[39m cv2\u001B[38;5;241m.\u001B[39mimread(\u001B[38;5;124m'\u001B[39m\u001B[38;5;124mtest/cat.1016.jpg\u001B[39m\u001B[38;5;124m'\u001B[39m)\n\u001B[1;32m----> 2\u001B[0m histt \u001B[38;5;241m=\u001B[39m \u001B[43mextract_histogram\u001B[49m\u001B[43m(\u001B[49m\u001B[43msingleImage\u001B[49m\u001B[43m)\u001B[49m\n\u001B[0;32m      3\u001B[0m histt2 \u001B[38;5;241m=\u001B[39m histt\u001B[38;5;241m.\u001B[39mreshape(\u001B[38;5;241m1\u001B[39m, \u001B[38;5;241m-\u001B[39m\u001B[38;5;241m1\u001B[39m)\n\u001B[0;32m      4\u001B[0m prediction \u001B[38;5;241m=\u001B[39m model\u001B[38;5;241m.\u001B[39mpredict(histt2)\n",
      "Input \u001B[1;32mIn [15]\u001B[0m, in \u001B[0;36mextract_histogram\u001B[1;34m(image, bins)\u001B[0m\n\u001B[0;32m      1\u001B[0m \u001B[38;5;28;01mdef\u001B[39;00m \u001B[38;5;21mextract_histogram\u001B[39m(image, bins\u001B[38;5;241m=\u001B[39m(\u001B[38;5;241m8\u001B[39m, \u001B[38;5;241m8\u001B[39m, \u001B[38;5;241m8\u001B[39m)):\n\u001B[1;32m----> 2\u001B[0m     hist \u001B[38;5;241m=\u001B[39m \u001B[43mcv2\u001B[49m\u001B[38;5;241;43m.\u001B[39;49m\u001B[43mcalcHist\u001B[49m\u001B[43m(\u001B[49m\u001B[43m[\u001B[49m\u001B[43mimage\u001B[49m\u001B[43m]\u001B[49m\u001B[43m,\u001B[49m\u001B[43m \u001B[49m\u001B[43m[\u001B[49m\u001B[38;5;241;43m0\u001B[39;49m\u001B[43m,\u001B[49m\u001B[43m \u001B[49m\u001B[38;5;241;43m1\u001B[39;49m\u001B[43m,\u001B[49m\u001B[43m \u001B[49m\u001B[38;5;241;43m2\u001B[39;49m\u001B[43m]\u001B[49m\u001B[43m,\u001B[49m\u001B[43m \u001B[49m\u001B[38;5;28;43;01mNone\u001B[39;49;00m\u001B[43m,\u001B[49m\u001B[43m \u001B[49m\u001B[43mbins\u001B[49m\u001B[43m,\u001B[49m\u001B[43m \u001B[49m\u001B[43m[\u001B[49m\u001B[38;5;241;43m0\u001B[39;49m\u001B[43m,\u001B[49m\u001B[43m \u001B[49m\u001B[38;5;241;43m256\u001B[39;49m\u001B[43m,\u001B[49m\u001B[43m \u001B[49m\u001B[38;5;241;43m0\u001B[39;49m\u001B[43m,\u001B[49m\u001B[43m \u001B[49m\u001B[38;5;241;43m256\u001B[39;49m\u001B[43m,\u001B[49m\u001B[43m \u001B[49m\u001B[38;5;241;43m0\u001B[39;49m\u001B[43m,\u001B[49m\u001B[43m \u001B[49m\u001B[38;5;241;43m256\u001B[39;49m\u001B[43m]\u001B[49m\u001B[43m)\u001B[49m\n\u001B[0;32m      3\u001B[0m     cv2\u001B[38;5;241m.\u001B[39mnormalize(hist, hist)\n\u001B[0;32m      4\u001B[0m     \u001B[38;5;28;01mreturn\u001B[39;00m hist\u001B[38;5;241m.\u001B[39mflatten()\n",
      "\u001B[1;31merror\u001B[0m: OpenCV(4.5.5) D:\\a\\opencv-python\\opencv-python\\opencv\\modules\\imgproc\\src\\histogram.cpp:160: error: (-215:Assertion failed) j < nimages in function 'cv::histPrepareImages'\n"
     ]
    }
   ],
   "source": [
    "singleImage = cv2.imread('prediction/cat.1037.jpg')\n",
    "histt = extract_histogram(singleImage)\n",
    "histt2 = histt.reshape(1, -1)\n",
    "prediction = model.predict(histt2)"
   ]
  },
  {
   "cell_type": "code",
   "execution_count": null,
   "metadata": {},
   "outputs": [],
   "source": [
    "Image(filename='test/cat.1016.jpg')"
   ]
  },
  {
   "cell_type": "code",
   "execution_count": null,
   "metadata": {},
   "outputs": [],
   "source": [
    "prediction"
   ]
  },
  {
   "cell_type": "markdown",
   "metadata": {},
   "source": [
    "The constructed classifier has successfully completed the task."
   ]
  }
 ],
 "metadata": {
  "kernelspec": {
   "display_name": "Python 3",
   "language": "python",
   "name": "python3"
  },
  "language_info": {
   "codemirror_mode": {
    "name": "ipython",
    "version": 3
   },
   "file_extension": ".py",
   "mimetype": "text/x-python",
   "name": "python",
   "nbconvert_exporter": "python",
   "pygments_lexer": "ipython3",
   "version": "3.5.4"
  }
 },
 "nbformat": 4,
 "nbformat_minor": 4
}