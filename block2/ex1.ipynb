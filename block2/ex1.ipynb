{
 "cells": [
  {
   "cell_type": "code",
   "execution_count": 56,
   "metadata": {
    "collapsed": true
   },
   "outputs": [
    {
     "name": "stdout",
     "output_type": "stream",
     "text": [
      "Requirement already satisfied: pip in c:\\users\\pogre\\pycharmprojects\\pythonproject1\\venv\\lib\\site-packages (22.0.3)\n",
      "Requirement already satisfied: imutils in c:\\users\\pogre\\pycharmprojects\\pythonproject1\\venv\\lib\\site-packages (0.5.4)\n",
      "Requirement already satisfied: opencv-python in c:\\users\\pogre\\pycharmprojects\\pythonproject1\\venv\\lib\\site-packages (4.5.5.62)\n",
      "Requirement already satisfied: numpy>=1.17.3 in c:\\users\\pogre\\pycharmprojects\\pythonproject1\\venv\\lib\\site-packages (from opencv-python) (1.22.2)\n"
     ]
    }
   ],
   "source": [
    "!pip install --upgrade pip\n",
    "!pip install imutils\n",
    "!pip install opencv-python"
   ]
  },
  {
   "cell_type": "code",
   "execution_count": 57,
   "outputs": [],
   "source": [
    "from sklearn.preprocessing import LabelEncoder\n",
    "from sklearn.svm import LinearSVC\n",
    "from sklearn.metrics import classification_report\n",
    "from sklearn.model_selection import train_test_split\n",
    "from IPython.display import Image\n",
    "from imutils import paths\n",
    "import numpy as np\n",
    "import cv2\n",
    "import os"
   ],
   "metadata": {
    "collapsed": false,
    "pycharm": {
     "name": "#%%\n"
    }
   }
  },
  {
   "cell_type": "code",
   "execution_count": 58,
   "outputs": [],
   "source": [
    "def extract_histogram(image, bins=(8, 8, 8)):\n",
    "    hist = cv2.calcHist([image], [0, 1, 2], None, bins, [0, 256, 0, 256, 0, 256])\n",
    "    cv2.normalize(hist, hist)\n",
    "    return hist.flatten()"
   ],
   "metadata": {
    "collapsed": false,
    "pycharm": {
     "name": "#%%\n"
    }
   }
  },
  {
   "cell_type": "code",
   "execution_count": 59,
   "outputs": [],
   "source": [
    "imagePaths = sorted(list(paths.list_images('train')))\n",
    "data = []\n",
    "labels = []\n",
    "\n",
    "for (i, imagePath) in enumerate(imagePaths):\n",
    "    image = cv2.imread(imagePath, 1)\n",
    "    label = imagePath.split(os.path.sep)[-1].split(\".\")[0]\n",
    "    hist = extract_histogram(image)\n",
    "    data.append(hist)\n",
    "    labels.append(label)"
   ],
   "metadata": {
    "collapsed": false,
    "pycharm": {
     "name": "#%%\n"
    }
   }
  },
  {
   "cell_type": "code",
   "execution_count": 60,
   "outputs": [
    {
     "name": "stdout",
     "output_type": "stream",
     "text": [
      "0\n"
     ]
    },
    {
     "data": {
      "image/jpeg": "[encoded data removed]",
      "text/plain": "<IPython.core.display.Image object>"
     },
     "execution_count": 60,
     "metadata": {},
     "output_type": "execute_result"
    }
   ],
   "source": [
    "le = LabelEncoder()\n",
    "labels = le.fit_transform(labels)\n",
    "print(labels[0])\n",
    "Image(filename=imagePaths[0])"
   ],
   "metadata": {
    "collapsed": false,
    "pycharm": {
     "name": "#%%\n"
    }
   }
  },
  {
   "cell_type": "code",
   "execution_count": 61,
   "outputs": [],
   "source": [
    "(trainData, testData, trainLabels, testLabels) = train_test_split(np.array(data), labels, test_size=0.25, random_state=10)"
   ],
   "metadata": {
    "collapsed": false,
    "pycharm": {
     "name": "#%%\n"
    }
   }
  },
  {
   "cell_type": "code",
   "execution_count": 62,
   "outputs": [
    {
     "data": {
      "text/plain": "LinearSVC(C=1.27, random_state=10)"
     },
     "execution_count": 62,
     "metadata": {},
     "output_type": "execute_result"
    }
   ],
   "source": [
    "model = LinearSVC(random_state = 10, C = 1.27)\n",
    "model.fit(trainData, trainLabels)"
   ],
   "metadata": {
    "collapsed": false,
    "pycharm": {
     "name": "#%%\n"
    }
   }
  },
  {
   "cell_type": "code",
   "execution_count": 63,
   "outputs": [],
   "source": [
    "predictions = model.predict(testData)"
   ],
   "metadata": {
    "collapsed": false,
    "pycharm": {
     "name": "#%%\n"
    }
   }
  },
  {
   "cell_type": "code",
   "execution_count": 64,
   "outputs": [
    {
     "name": "stdout",
     "output_type": "stream",
     "text": [
      "              precision    recall  f1-score   support\n",
      "\n",
      "         cat       0.53      0.65      0.58       123\n",
      "         dog       0.56      0.43      0.49       127\n",
      "\n",
      "    accuracy                           0.54       250\n",
      "   macro avg       0.54      0.54      0.54       250\n",
      "weighted avg       0.54      0.54      0.53       250\n",
      "\n"
     ]
    }
   ],
   "source": [
    "print(classification_report(testLabels, predictions, target_names=le.classes_))"
   ],
   "metadata": {
    "collapsed": false,
    "pycharm": {
     "name": "#%%\n"
    }
   }
  },
  {
   "cell_type": "code",
   "execution_count": 65,
   "outputs": [
    {
     "data": {
      "text/plain": "0.5353535353535354"
     },
     "execution_count": 65,
     "metadata": {},
     "output_type": "execute_result"
    }
   ],
   "source": [
    "from sklearn.metrics import f1_score\n",
    "predictions = model.predict(testData)\n",
    "f1_score(testLabels, predictions, average='macro')"
   ],
   "metadata": {
    "collapsed": false,
    "pycharm": {
     "name": "#%%\n"
    }
   }
  },
  {
   "cell_type": "code",
   "execution_count": 66,
   "outputs": [
    {
     "data": {
      "text/plain": "array([[-4.68856741e-01,  7.36670788e-01, -3.43683628e-01,\n        -1.95022224e-01,  5.44470172e-01,  8.31590895e-01,\n         1.83094299e-01, -6.21371339e-01,  3.85444185e-01,\n        -9.27000662e-02, -4.15023831e-01,  1.14323597e+00,\n        -2.48099685e-01, -2.50235634e-01, -2.31001872e-01,\n        -1.13236265e+00, -6.26558483e-02, -1.22385863e-02,\n         1.26778001e+00,  2.68201475e-01, -4.83492651e-01,\n        -9.33090172e-02,  8.13075320e-02, -8.06063242e-03,\n         1.75455085e-02,  1.94904976e-01,  5.61489440e-02,\n         3.34158992e-01,  6.94024922e-01, -2.88558811e-01,\n        -3.02975817e-02,  7.36485072e-02, -5.99149371e-03,\n         7.61599052e-01,  1.95901948e-01, -3.56393064e-03,\n         5.20643088e-02, -1.62992831e-02, -8.12466944e-02,\n         3.77926683e-01, -4.57103162e-03,  6.64513387e-02,\n         7.53688276e-02,  6.45379913e-03, -1.01755940e-03,\n        -5.39226763e-02, -7.00140287e-02,  1.14710118e-02,\n        -8.62458794e-04,  0.00000000e+00,  0.00000000e+00,\n         1.16979952e-04, -2.88822769e-05, -2.80081724e-03,\n        -1.96948288e-02,  7.71729586e-03,  0.00000000e+00,\n         0.00000000e+00,  0.00000000e+00,  0.00000000e+00,\n         0.00000000e+00,  0.00000000e+00, -8.60410867e-04,\n         4.08501772e-03,  1.07960656e+00,  1.07528549e+00,\n        -4.77580968e-01,  4.16039578e-01, -5.74974804e-01,\n        -5.06148135e-01, -1.69729552e-01, -2.83652682e-02,\n         4.47307463e-01,  8.88746483e-02, -2.82328502e-02,\n        -1.04536837e-01, -4.14749058e-01, -6.77376238e-01,\n        -8.88725165e-01, -4.08215525e-01, -9.80990249e-01,\n         1.65596323e+00, -9.85652710e-02,  8.52810952e-01,\n         2.24391729e-02,  3.48725361e-02, -1.53771948e-01,\n         1.33601746e-01, -9.68229764e-02,  3.56359330e-01,\n         1.45196714e+00,  1.65658011e+00, -3.51645180e-01,\n         1.03492002e+00, -7.01113906e-02, -2.82909693e-04,\n        -2.79294671e-03,  1.79753761e-02,  3.24481532e-01,\n         3.57166598e-01,  1.17834522e-01, -2.10428211e-01,\n        -7.27709334e-01,  4.86417720e-03, -6.29594921e-03,\n        -1.84885685e-02,  2.00901795e-02, -4.58547992e-03,\n        -6.26685295e-03, -4.05728876e-02, -4.23996531e-01,\n        -2.69829592e-02, -5.86471973e-03, -5.86471973e-03,\n         5.88493042e-05,  3.08317884e-03,  5.89397994e-03,\n        -1.26531939e-02, -2.54252809e-02, -1.19872350e-01,\n         0.00000000e+00,  0.00000000e+00,  0.00000000e+00,\n         2.90190367e-05,  6.48868193e-05,  5.78080106e-05,\n        -1.95384701e-03,  2.98306145e-02,  3.24624235e-01,\n         3.90402216e-02, -9.94720579e-02, -3.59890959e-03,\n        -3.41278728e-02, -2.97547688e-01, -2.21967925e-01,\n        -7.53649893e-02, -1.01641500e+00,  9.47038189e-01,\n        -2.79288068e-01, -6.74735840e-01,  2.22070088e-01,\n        -9.87186222e-02,  3.78866004e-01, -1.97599183e-02,\n        -8.94188917e-01,  4.69931122e-01, -2.38736179e-01,\n        -1.49258690e-01, -1.04593907e+00,  9.72979833e-01,\n        -5.61633342e-01,  8.93677639e-02, -5.83322520e-01,\n        -4.75701351e-01,  8.01955630e-01, -1.88384823e-01,\n         4.67784049e-01,  5.74862805e-01,  1.49442042e-01,\n        -4.21403798e-02, -5.16303075e-03, -1.86129610e-01,\n         2.65962015e-01,  1.46778578e+00,  1.34099322e+00,\n        -1.05231832e+00,  6.29877822e-01, -3.93518905e-02,\n        -6.03718927e-03, -1.45356541e-02, -8.04037437e-02,\n         1.56133888e-01,  6.36563802e-01, -7.89455577e-02,\n         3.51708693e-01,  5.91392482e-02,  0.00000000e+00,\n        -1.29368819e-03, -1.24663463e-03,  5.36380182e-03,\n         8.13277317e-02,  2.93197804e-02, -3.84810094e-01,\n        -1.92543179e-01,  0.00000000e+00,  0.00000000e+00,\n         0.00000000e+00,  1.45095186e-04,  1.55214174e-03,\n         1.17639645e-03, -3.10619741e-03,  8.46813724e-02,\n        -1.25322855e-01,  1.69533733e-02,  4.53591766e-03,\n         1.16673411e-03,  3.45542883e-04,  2.58933055e-04,\n        -9.84942674e-03, -9.64498932e-04, -3.20318821e-01,\n        -2.19323262e-01, -2.74965476e-01, -4.10056527e-01,\n        -4.37572745e-02,  4.49451349e-02,  5.88157814e-02,\n         4.43249291e-01,  1.07118537e-01,  8.86833452e-01,\n         4.01571430e-01,  1.76052955e+00,  2.62296612e-01,\n         2.93451313e-01, -5.82581843e-01, -2.72611057e-01,\n        -1.37975797e-02, -4.28971532e-02, -9.40305572e-01,\n         4.34496601e-02, -6.24491904e-01, -3.36385448e-01,\n        -3.35398636e-02,  2.13157174e-02, -5.16472302e-02,\n        -2.01944757e-02, -6.35313736e-01,  2.59548692e-01,\n        -6.70620029e-02,  1.81914394e-01,  3.97844726e-02,\n        -5.46709228e-01,  1.24301143e-02,  8.98197240e-03,\n        -1.53381802e-01,  3.67978229e-01,  1.36323866e+00,\n         3.04915282e-01,  3.19797627e-01,  1.01060397e+00,\n        -2.01821324e-03,  3.12974994e-04, -5.89402355e-03,\n        -2.16742010e-03,  3.42436794e-01,  8.69250640e-01,\n        -2.80738305e-01, -6.45630622e-01,  0.00000000e+00,\n         0.00000000e+00, -8.62458816e-05, -1.72491763e-04,\n         2.13800345e-03,  5.04112150e-03,  4.45504016e-03,\n        -5.28750310e-01,  8.41032937e-03, -5.72127086e-03,\n         6.80061449e-03,  1.02639852e-03,  3.40731008e-04,\n         0.00000000e+00, -1.29449841e-03, -1.45880019e-02,\n         2.09693617e-01, -2.32137975e-01, -2.05541289e-02,\n         1.96282860e-01, -1.22305912e-01, -2.28976274e-03,\n        -1.24731612e-02, -3.19388833e-02, -2.32974459e-01,\n         9.38694047e-01,  1.44406725e-01,  3.37013726e-01,\n        -3.20578720e-01,  8.36754085e-02, -2.63757091e-01,\n         1.09075860e-02,  2.06577780e-01,  4.97420860e-01,\n         4.39256736e-01, -5.70447029e-01,  7.54190178e-01,\n         3.37984671e-01, -1.95952430e-01, -3.43344643e-01,\n         3.73213583e-02, -4.98191830e-02,  3.24138520e-01,\n        -6.17957002e-02,  2.94768511e-01,  1.04776326e-01,\n         6.17049749e-01,  3.12035413e-02, -3.83189923e-02,\n        -2.37660221e-01,  9.68585472e-02, -2.15849427e-01,\n        -1.01046357e-01,  3.29752954e-01, -3.30321165e-01,\n         1.38977376e+00, -1.08103059e-03,  1.92646233e-02,\n        -4.60929044e-03, -9.93685018e-02,  2.93879682e-02,\n         4.76632452e-01, -1.26609775e+00, -4.71757101e-02,\n        -1.11710902e-03, -5.58554509e-04, -4.46843597e-04,\n        -1.67274881e-02, -1.98300631e-02, -1.92143934e-01,\n         1.38183621e-01, -5.65762360e-01, -7.45066821e-03,\n        -3.79700619e-02, -1.16489819e-02,  5.04404998e-03,\n         0.00000000e+00,  0.00000000e+00,  0.00000000e+00,\n         0.00000000e+00,  9.59034543e-01, -3.14567407e-03,\n        -7.97716415e-02,  1.04048088e-02,  6.41593555e-04,\n        -7.19922288e-04, -5.02239511e-03, -1.24678703e-02,\n         6.57419604e-01, -1.95420540e-01,  7.58550271e-02,\n         1.75291781e-01, -1.57506193e-01, -9.40832032e-02,\n        -1.86453261e-03,  4.34036231e-03, -5.21487733e-01,\n        -2.76198323e-02,  4.11485012e-01, -1.61862121e-02,\n        -1.85967251e-01, -1.22029223e-01,  1.07410970e-01,\n         3.03937545e-01,  7.01667083e-01,  4.60538332e-01,\n         8.38934583e-01,  8.14848271e-01,  1.04948690e+00,\n        -1.36944051e-01, -5.59454100e-01,  9.88875778e-02,\n        -5.81537701e-03, -3.41787654e-01,  1.11186877e-01,\n         7.34082999e-01,  1.51032512e-02,  8.77812968e-02,\n        -5.93220822e-01,  1.85799786e+00, -1.41271586e-04,\n        -9.44034543e-02, -7.97122783e-02,  6.55828128e-02,\n        -5.99479446e-02, -3.20768224e-01, -1.86291573e-01,\n         1.20263219e+00, -3.35132684e-04, -1.38688907e-03,\n         6.32945054e-05, -1.78688628e-03, -7.46107422e-02,\n        -7.57189340e-02,  1.37499186e-01,  5.70600793e-01,\n         0.00000000e+00, -3.15730208e-03, -4.60795437e-03,\n         1.37997595e-03,  1.42756130e-04,  0.00000000e+00,\n         0.00000000e+00,  0.00000000e+00,  1.16761989e-02,\n        -2.87849541e-03, -9.11967434e-02,  2.37926906e-03,\n         1.42756143e-03,  0.00000000e+00,  0.00000000e+00,\n         0.00000000e+00,  2.54131016e-01, -2.12907484e-01,\n        -1.74350400e-01, -3.96509204e-03, -5.08245058e-03,\n        -1.43362522e-02, -6.25231364e-04, -1.73204898e-03,\n         1.94907926e-01, -1.66133379e-01, -7.18535808e-01,\n        -1.05797401e-01,  1.02198207e-02, -1.92647937e-01,\n        -9.85168321e-03,  3.27165051e-02, -1.14849658e-01,\n         4.12910048e-02,  5.48148962e-01,  8.10276496e-01,\n         3.17924079e-01, -4.24943198e-01, -3.68388083e-03,\n        -2.06784229e-01,  1.51406461e-02,  1.52685291e-02,\n         1.72751304e-01,  6.37414211e-01,  1.22202241e+00,\n         7.69117304e-01, -6.35665394e-01, -1.83332042e-01,\n         1.50933152e-03, -2.11185337e-02, -6.84685239e-02,\n         1.41236490e-01,  1.64123919e-01, -5.74073555e-01,\n         1.73758768e-01,  2.02677702e-01,  0.00000000e+00,\n        -1.12379837e-04, -1.50312250e-03, -1.87604799e-03,\n        -4.39899027e-03,  3.10159773e-04, -3.82850779e-01,\n        -1.80179206e-01,  0.00000000e+00,  0.00000000e+00,\n         0.00000000e+00,  0.00000000e+00,  0.00000000e+00,\n         0.00000000e+00,  0.00000000e+00,  0.00000000e+00,\n         0.00000000e+00,  0.00000000e+00, -1.39091959e-02,\n         0.00000000e+00,  0.00000000e+00,  0.00000000e+00,\n         0.00000000e+00,  0.00000000e+00,  1.47025702e-01,\n         1.10972891e-04, -1.17395385e-01, -3.83969716e-02,\n         1.12851896e-04, -4.97884018e-05,  0.00000000e+00,\n         0.00000000e+00,  1.65067511e-01, -6.78594981e-03,\n        -3.60049788e-02, -3.18388641e-02,  1.07677750e-03,\n        -6.02143681e-03, -3.01610781e-03, -8.67702174e-04,\n        -1.23077720e+00, -9.95426058e-03, -4.15754279e-01,\n        -7.41892574e-02,  5.15827499e-03, -3.61328323e-03,\n        -7.87831848e-02,  5.85619812e-02, -1.14166360e-02,\n         3.02850565e-02,  2.47723547e-01, -3.11341557e-01,\n         1.73603814e-01,  5.54636208e-03, -5.35385626e-01,\n         1.52306341e-02, -4.46963450e-02,  3.18368140e-02,\n         1.61888234e-01,  4.60888943e-01,  4.72554909e-02,\n         8.20639640e-01, -8.51962063e-01, -7.93200068e-02,\n        -3.22182931e-02,  1.37436009e-01, -2.68324156e-01,\n        -1.91098784e-01,  3.01451764e-02, -9.59171263e-02,\n        -3.34579088e-01,  4.91161357e-02]])"
     },
     "execution_count": 66,
     "metadata": {},
     "output_type": "execute_result"
    }
   ],
   "source": [
    "model.coef_"
   ],
   "metadata": {
    "collapsed": false,
    "pycharm": {
     "name": "#%%\n"
    }
   }
  },
  {
   "cell_type": "code",
   "execution_count": 69,
   "outputs": [
    {
     "data": {
      "text/plain": "array([1], dtype=int64)"
     },
     "execution_count": 69,
     "metadata": {},
     "output_type": "execute_result"
    }
   ],
   "source": [
    "singleImage = cv2.imread('cat.1043.jpg')\n",
    "histt = extract_histogram(singleImage)\n",
    "histt2 = histt.reshape(1, -1)\n",
    "prediction = model.predict(histt2)\n",
    "prediction"
   ],
   "metadata": {
    "collapsed": false,
    "pycharm": {
     "name": "#%%\n"
    }
   }
  }
 ],
 "metadata": {
  "kernelspec": {
   "display_name": "Python 3",
   "language": "python",
   "name": "python3"
  },
  "language_info": {
   "codemirror_mode": {
    "name": "ipython",
    "version": 2
   },
   "file_extension": ".py",
   "mimetype": "text/x-python",
   "name": "python",
   "nbconvert_exporter": "python",
   "pygments_lexer": "ipython2",
   "version": "2.7.6"
  }
 },
 "nbformat": 4,
 "nbformat_minor": 0
}